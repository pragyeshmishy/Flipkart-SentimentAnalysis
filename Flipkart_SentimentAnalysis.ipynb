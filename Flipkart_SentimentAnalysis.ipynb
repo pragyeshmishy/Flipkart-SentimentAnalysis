{
  "nbformat": 4,
  "nbformat_minor": 0,
  "metadata": {
    "colab": {
      "name": "Flipkart-SentimentAnalysis.ipynb",
      "provenance": [],
      "collapsed_sections": [],
      "mount_file_id": "1x_NYwCEK0i8uKdd7LoDAok9G2cl3FRe0",
      "authorship_tag": "ABX9TyNhs8JdX/DeXfM3809cA+GE",
      "include_colab_link": true
    },
    "kernelspec": {
      "name": "python3",
      "display_name": "Python 3"
    },
    "language_info": {
      "name": "python"
    },
    "accelerator": "GPU"
  },
  "cells": [
    {
      "cell_type": "markdown",
      "metadata": {
        "id": "view-in-github",
        "colab_type": "text"
      },
      "source": [
        "<a href=\"https://colab.research.google.com/github/pragyeshmishy/Flipkart-SentimentAnalysis/blob/main/Flipkart_SentimentAnalysis.ipynb\" target=\"_parent\"><img src=\"https://colab.research.google.com/assets/colab-badge.svg\" alt=\"Open In Colab\"/></a>"
      ]
    },
    {
      "cell_type": "code",
      "metadata": {
        "id": "pP7LFkNP7IPw"
      },
      "source": [
        "# utilities\n",
        "import re\n",
        "import numpy as np\n",
        "import pandas as pd\n",
        "# plotting\n",
        "import seaborn as sns\n",
        "from wordcloud import WordCloud\n",
        "import matplotlib.pyplot as plt\n",
        "# nltk\n",
        "from nltk.stem import WordNetLemmatizer\n",
        "# sklearn\n",
        "from sklearn.svm import LinearSVC\n",
        "from sklearn.naive_bayes import BernoulliNB\n",
        "from sklearn.linear_model import LogisticRegression\n",
        "from sklearn.model_selection import train_test_split\n",
        "from sklearn.feature_extraction.text import TfidfVectorizer\n",
        "from sklearn.metrics import confusion_matrix, classification_report"
      ],
      "execution_count": 66,
      "outputs": []
    },
    {
      "cell_type": "code",
      "metadata": {
        "colab": {
          "base_uri": "https://localhost:8080/",
          "height": 203
        },
        "id": "tFq233_Mw-8o",
        "outputId": "568871af-8f71-4b32-8816-24bb6c73f75d"
      },
      "source": [
        "# Importing the dataset\n",
        "DATASET_COLUMNS=['Name','Account','Date','Comments','Retweet','text']\n",
        "DATASET_ENCODING = \"ISO-8859-1\"\n",
        "df = pd.read_csv('/content/drive/MyDrive/twiterdata.csv', encoding=DATASET_ENCODING, names=DATASET_COLUMNS)\n",
        "df.sample(5)"
      ],
      "execution_count": 67,
      "outputs": [
        {
          "output_type": "execute_result",
          "data": {
            "text/html": [
              "<div>\n",
              "<style scoped>\n",
              "    .dataframe tbody tr th:only-of-type {\n",
              "        vertical-align: middle;\n",
              "    }\n",
              "\n",
              "    .dataframe tbody tr th {\n",
              "        vertical-align: top;\n",
              "    }\n",
              "\n",
              "    .dataframe thead th {\n",
              "        text-align: right;\n",
              "    }\n",
              "</style>\n",
              "<table border=\"1\" class=\"dataframe\">\n",
              "  <thead>\n",
              "    <tr style=\"text-align: right;\">\n",
              "      <th></th>\n",
              "      <th>Name</th>\n",
              "      <th>Account</th>\n",
              "      <th>Date</th>\n",
              "      <th>Comments</th>\n",
              "      <th>Retweet</th>\n",
              "      <th>text</th>\n",
              "    </tr>\n",
              "  </thead>\n",
              "  <tbody>\n",
              "    <tr>\n",
              "      <th>237</th>\n",
              "      <td>FlashSaleTricks</td>\n",
              "      <td>@FlashSaleTricks</td>\n",
              "      <td>Oct 14, 2017</td>\n",
              "      <td>NaN</td>\n",
              "      <td>NaN</td>\n",
              "      <td>Buy Bluetooth Speakers from Rs. 849 | 20% Cash...</td>\n",
              "    </tr>\n",
              "    <tr>\n",
              "      <th>314</th>\n",
              "      <td>Isha</td>\n",
              "      <td>@sweet_isha1</td>\n",
              "      <td>Nov 16, 2016</td>\n",
              "      <td>NaN</td>\n",
              "      <td>NaN</td>\n",
              "      <td>Update: \\n@Flipkart\\n resumes accepting CoD pa...</td>\n",
              "    </tr>\n",
              "    <tr>\n",
              "      <th>215</th>\n",
              "      <td>GlobalGiants.Com</td>\n",
              "      <td>@GlobalGiants</td>\n",
              "      <td>Feb 28, 2018</td>\n",
              "      <td>NaN</td>\n",
              "      <td>1</td>\n",
              "      <td>#Mastercard joins hands with #Flipkart; makes ...</td>\n",
              "    </tr>\n",
              "    <tr>\n",
              "      <th>118</th>\n",
              "      <td>Tech N Tech</td>\n",
              "      <td>@techntechonly</td>\n",
              "      <td>Jan 31, 2020</td>\n",
              "      <td>1</td>\n",
              "      <td>NaN</td>\n",
              "      <td>#flipkartpaylater now enabled in #phonepe #pay...</td>\n",
              "    </tr>\n",
              "    <tr>\n",
              "      <th>96</th>\n",
              "      <td>Devendra Narain</td>\n",
              "      <td>@narain41</td>\n",
              "      <td>Jul 1, 2020</td>\n",
              "      <td>NaN</td>\n",
              "      <td>1</td>\n",
              "      <td>Ban on 59 apps has shaken Chinese. We can shak...</td>\n",
              "    </tr>\n",
              "  </tbody>\n",
              "</table>\n",
              "</div>"
            ],
            "text/plain": [
              "                 Name  ...                                               text\n",
              "237   FlashSaleTricks  ...  Buy Bluetooth Speakers from Rs. 849 | 20% Cash...\n",
              "314              Isha  ...  Update: \\n@Flipkart\\n resumes accepting CoD pa...\n",
              "215  GlobalGiants.Com  ...  #Mastercard joins hands with #Flipkart; makes ...\n",
              "118       Tech N Tech  ...  #flipkartpaylater now enabled in #phonepe #pay...\n",
              "96    Devendra Narain  ...  Ban on 59 apps has shaken Chinese. We can shak...\n",
              "\n",
              "[5 rows x 6 columns]"
            ]
          },
          "metadata": {},
          "execution_count": 67
        }
      ]
    },
    {
      "cell_type": "code",
      "metadata": {
        "colab": {
          "base_uri": "https://localhost:8080/",
          "height": 203
        },
        "id": "Fz0OuWQoybUc",
        "outputId": "b1ab99db-70d0-4b16-97c8-0013dfeffd4d"
      },
      "source": [
        "df = df.iloc[1:]\n",
        "df.head(5)\n"
      ],
      "execution_count": 68,
      "outputs": [
        {
          "output_type": "execute_result",
          "data": {
            "text/html": [
              "<div>\n",
              "<style scoped>\n",
              "    .dataframe tbody tr th:only-of-type {\n",
              "        vertical-align: middle;\n",
              "    }\n",
              "\n",
              "    .dataframe tbody tr th {\n",
              "        vertical-align: top;\n",
              "    }\n",
              "\n",
              "    .dataframe thead th {\n",
              "        text-align: right;\n",
              "    }\n",
              "</style>\n",
              "<table border=\"1\" class=\"dataframe\">\n",
              "  <thead>\n",
              "    <tr style=\"text-align: right;\">\n",
              "      <th></th>\n",
              "      <th>Name</th>\n",
              "      <th>Account</th>\n",
              "      <th>Date</th>\n",
              "      <th>Comments</th>\n",
              "      <th>Retweet</th>\n",
              "      <th>text</th>\n",
              "    </tr>\n",
              "  </thead>\n",
              "  <tbody>\n",
              "    <tr>\n",
              "      <th>1</th>\n",
              "      <td>Meenakshi J Goyal</td>\n",
              "      <td>@meenakshigoyalg</td>\n",
              "      <td>Oct-30</td>\n",
              "      <td>3</td>\n",
              "      <td>2</td>\n",
              "      <td>@Flipkart\\n  I am afraid now to do online paym...</td>\n",
              "    </tr>\n",
              "    <tr>\n",
              "      <th>2</th>\n",
              "      <td>mystartupyatra</td>\n",
              "      <td>@mystartupyatra</td>\n",
              "      <td>Oct-26</td>\n",
              "      <td>NaN</td>\n",
              "      <td>1</td>\n",
              "      <td>Rupifi : Powering B2B Transactions for SMEs \\n...</td>\n",
              "    </tr>\n",
              "    <tr>\n",
              "      <th>3</th>\n",
              "      <td>Marketing Motivation</td>\n",
              "      <td>@marketing_motiv</td>\n",
              "      <td>Oct-23</td>\n",
              "      <td>NaN</td>\n",
              "      <td>NaN</td>\n",
              "      <td>Digital payments leader PhonePe has started ch...</td>\n",
              "    </tr>\n",
              "    <tr>\n",
              "      <th>4</th>\n",
              "      <td>Girish Purohit</td>\n",
              "      <td>@GJ_PUROHIT</td>\n",
              "      <td>Oct-22</td>\n",
              "      <td>1</td>\n",
              "      <td>2</td>\n",
              "      <td>My \\n@AxisBank\\n \\n@AxisBankSupport\\n #Flipkar...</td>\n",
              "    </tr>\n",
              "    <tr>\n",
              "      <th>5</th>\n",
              "      <td>Nitin Sethi</td>\n",
              "      <td>@nitinsethi80</td>\n",
              "      <td>Oct-20</td>\n",
              "      <td>NaN</td>\n",
              "      <td>NaN</td>\n",
              "      <td>Flipkart Wholesale partners with Rupifi to off...</td>\n",
              "    </tr>\n",
              "  </tbody>\n",
              "</table>\n",
              "</div>"
            ],
            "text/plain": [
              "                   Name  ...                                               text\n",
              "1     Meenakshi J Goyal  ...  @Flipkart\\n  I am afraid now to do online paym...\n",
              "2        mystartupyatra  ...  Rupifi : Powering B2B Transactions for SMEs \\n...\n",
              "3  Marketing Motivation  ...  Digital payments leader PhonePe has started ch...\n",
              "4        Girish Purohit  ...  My \\n@AxisBank\\n \\n@AxisBankSupport\\n #Flipkar...\n",
              "5           Nitin Sethi  ...  Flipkart Wholesale partners with Rupifi to off...\n",
              "\n",
              "[5 rows x 6 columns]"
            ]
          },
          "metadata": {},
          "execution_count": 68
        }
      ]
    },
    {
      "cell_type": "code",
      "metadata": {
        "colab": {
          "base_uri": "https://localhost:8080/"
        },
        "id": "gSz5sfIXy79R",
        "outputId": "05709d7a-83d1-4314-d8ed-41509490354c"
      },
      "source": [
        "df.columns"
      ],
      "execution_count": 69,
      "outputs": [
        {
          "output_type": "execute_result",
          "data": {
            "text/plain": [
              "Index(['Name', 'Account', 'Date', 'Comments', 'Retweet', 'text'], dtype='object')"
            ]
          },
          "metadata": {},
          "execution_count": 69
        }
      ]
    },
    {
      "cell_type": "code",
      "metadata": {
        "colab": {
          "base_uri": "https://localhost:8080/"
        },
        "id": "rA3XqjOCzK_h",
        "outputId": "c2c0198f-4367-4430-c4aa-f896a4be7f97"
      },
      "source": [
        "print('length of data is', len(df))"
      ],
      "execution_count": 70,
      "outputs": [
        {
          "output_type": "stream",
          "name": "stdout",
          "text": [
            "length of data is 334\n"
          ]
        }
      ]
    },
    {
      "cell_type": "code",
      "metadata": {
        "colab": {
          "base_uri": "https://localhost:8080/"
        },
        "id": "xmPyFxCvzYQT",
        "outputId": "d02c2ab1-66f5-443b-dd2d-97bc6e202271"
      },
      "source": [
        "df. shape"
      ],
      "execution_count": 71,
      "outputs": [
        {
          "output_type": "execute_result",
          "data": {
            "text/plain": [
              "(334, 6)"
            ]
          },
          "metadata": {},
          "execution_count": 71
        }
      ]
    },
    {
      "cell_type": "code",
      "metadata": {
        "colab": {
          "base_uri": "https://localhost:8080/"
        },
        "id": "i3wzZKBNzbib",
        "outputId": "82ac226c-762f-49f5-8060-c76cc054dcd9"
      },
      "source": [
        "df.info()"
      ],
      "execution_count": 72,
      "outputs": [
        {
          "output_type": "stream",
          "name": "stdout",
          "text": [
            "<class 'pandas.core.frame.DataFrame'>\n",
            "RangeIndex: 334 entries, 1 to 334\n",
            "Data columns (total 6 columns):\n",
            " #   Column    Non-Null Count  Dtype \n",
            "---  ------    --------------  ----- \n",
            " 0   Name      334 non-null    object\n",
            " 1   Account   334 non-null    object\n",
            " 2   Date      334 non-null    object\n",
            " 3   Comments  46 non-null     object\n",
            " 4   Retweet   60 non-null     object\n",
            " 5   text      334 non-null    object\n",
            "dtypes: object(6)\n",
            "memory usage: 15.8+ KB\n"
          ]
        }
      ]
    },
    {
      "cell_type": "code",
      "metadata": {
        "colab": {
          "base_uri": "https://localhost:8080/"
        },
        "id": "rOnQgDhazdsw",
        "outputId": "4d9a8d58-70c3-4dbb-d2e2-952207cefd76"
      },
      "source": [
        "np.sum(df.isnull().any(axis=1))"
      ],
      "execution_count": 73,
      "outputs": [
        {
          "output_type": "execute_result",
          "data": {
            "text/plain": [
              "317"
            ]
          },
          "metadata": {},
          "execution_count": 73
        }
      ]
    },
    {
      "cell_type": "code",
      "metadata": {
        "colab": {
          "base_uri": "https://localhost:8080/"
        },
        "id": "Ij-gwjPAzlii",
        "outputId": "db43ef59-ccee-4553-9cb2-85da403526aa"
      },
      "source": [
        "print('Count of columns in the data is:  ', len(df.columns))\n",
        "print('Count of rows in the data is:  ', len(df))"
      ],
      "execution_count": 74,
      "outputs": [
        {
          "output_type": "stream",
          "name": "stdout",
          "text": [
            "Count of columns in the data is:   6\n",
            "Count of rows in the data is:   334\n"
          ]
        }
      ]
    },
    {
      "cell_type": "code",
      "metadata": {
        "colab": {
          "base_uri": "https://localhost:8080/"
        },
        "id": "8QxckgbBzp_I",
        "outputId": "3d4bff78-1413-48d0-86f8-35e82d47a080"
      },
      "source": [
        "pip install vaderSentiment"
      ],
      "execution_count": 75,
      "outputs": [
        {
          "output_type": "stream",
          "name": "stdout",
          "text": [
            "Requirement already satisfied: vaderSentiment in /usr/local/lib/python3.7/dist-packages (3.3.2)\n",
            "Requirement already satisfied: requests in /usr/local/lib/python3.7/dist-packages (from vaderSentiment) (2.23.0)\n",
            "Requirement already satisfied: chardet<4,>=3.0.2 in /usr/local/lib/python3.7/dist-packages (from requests->vaderSentiment) (3.0.4)\n",
            "Requirement already satisfied: idna<3,>=2.5 in /usr/local/lib/python3.7/dist-packages (from requests->vaderSentiment) (2.10)\n",
            "Requirement already satisfied: urllib3!=1.25.0,!=1.25.1,<1.26,>=1.21.1 in /usr/local/lib/python3.7/dist-packages (from requests->vaderSentiment) (1.24.3)\n",
            "Requirement already satisfied: certifi>=2017.4.17 in /usr/local/lib/python3.7/dist-packages (from requests->vaderSentiment) (2021.10.8)\n"
          ]
        }
      ]
    },
    {
      "cell_type": "code",
      "metadata": {
        "id": "gFojVkwwzuMc"
      },
      "source": [
        "from vaderSentiment.vaderSentiment import SentimentIntensityAnalyzer\n",
        "analyzer = SentimentIntensityAnalyzer()"
      ],
      "execution_count": 76,
      "outputs": []
    },
    {
      "cell_type": "code",
      "metadata": {
        "colab": {
          "base_uri": "https://localhost:8080/"
        },
        "id": "YCPnbPm009Ye",
        "outputId": "2ad90a08-3130-4c98-d64c-56240e76fbad"
      },
      "source": [
        "dfsent=df[\"text\"]\n",
        "dfsent"
      ],
      "execution_count": 77,
      "outputs": [
        {
          "output_type": "execute_result",
          "data": {
            "text/plain": [
              "1      @Flipkart\\n  I am afraid now to do online paym...\n",
              "2      Rupifi : Powering B2B Transactions for SMEs \\n...\n",
              "3      Digital payments leader PhonePe has started ch...\n",
              "4      My \\n@AxisBank\\n \\n@AxisBankSupport\\n #Flipkar...\n",
              "5      Flipkart Wholesale partners with Rupifi to off...\n",
              "                             ...                        \n",
              "330    #Flipkart #BigBillionDaysTonight not getting p...\n",
              "331    #Digital #disruption has reached #APAC, with #...\n",
              "332    #Newly #launched #mobile #payments arm of #Fli...\n",
              "333    http://phonepewallet.com is for sale on \\n@fli...\n",
              "334                             Replying to \\n@Branduble\n",
              "Name: text, Length: 334, dtype: object"
            ]
          },
          "metadata": {},
          "execution_count": 77
        }
      ]
    },
    {
      "cell_type": "code",
      "metadata": {
        "colab": {
          "base_uri": "https://localhost:8080/",
          "height": 287
        },
        "id": "Iv8Vd0Zd2EEt",
        "outputId": "3e10b39b-0205-444c-ceb9-d17591d3a780"
      },
      "source": [
        "df['scores'] = df['text'].apply(lambda review: analyzer.polarity_scores(review))\n",
        "\n",
        "df.head()"
      ],
      "execution_count": 78,
      "outputs": [
        {
          "output_type": "execute_result",
          "data": {
            "text/html": [
              "<div>\n",
              "<style scoped>\n",
              "    .dataframe tbody tr th:only-of-type {\n",
              "        vertical-align: middle;\n",
              "    }\n",
              "\n",
              "    .dataframe tbody tr th {\n",
              "        vertical-align: top;\n",
              "    }\n",
              "\n",
              "    .dataframe thead th {\n",
              "        text-align: right;\n",
              "    }\n",
              "</style>\n",
              "<table border=\"1\" class=\"dataframe\">\n",
              "  <thead>\n",
              "    <tr style=\"text-align: right;\">\n",
              "      <th></th>\n",
              "      <th>Name</th>\n",
              "      <th>Account</th>\n",
              "      <th>Date</th>\n",
              "      <th>Comments</th>\n",
              "      <th>Retweet</th>\n",
              "      <th>text</th>\n",
              "      <th>scores</th>\n",
              "    </tr>\n",
              "  </thead>\n",
              "  <tbody>\n",
              "    <tr>\n",
              "      <th>1</th>\n",
              "      <td>Meenakshi J Goyal</td>\n",
              "      <td>@meenakshigoyalg</td>\n",
              "      <td>Oct-30</td>\n",
              "      <td>3</td>\n",
              "      <td>2</td>\n",
              "      <td>@Flipkart\\n  I am afraid now to do online paym...</td>\n",
              "      <td>{'neg': 0.047, 'neu': 0.885, 'pos': 0.068, 'co...</td>\n",
              "    </tr>\n",
              "    <tr>\n",
              "      <th>2</th>\n",
              "      <td>mystartupyatra</td>\n",
              "      <td>@mystartupyatra</td>\n",
              "      <td>Oct-26</td>\n",
              "      <td>NaN</td>\n",
              "      <td>1</td>\n",
              "      <td>Rupifi : Powering B2B Transactions for SMEs \\n...</td>\n",
              "      <td>{'neg': 0.0, 'neu': 1.0, 'pos': 0.0, 'compound...</td>\n",
              "    </tr>\n",
              "    <tr>\n",
              "      <th>3</th>\n",
              "      <td>Marketing Motivation</td>\n",
              "      <td>@marketing_motiv</td>\n",
              "      <td>Oct-23</td>\n",
              "      <td>NaN</td>\n",
              "      <td>NaN</td>\n",
              "      <td>Digital payments leader PhonePe has started ch...</td>\n",
              "      <td>{'neg': 0.0, 'neu': 1.0, 'pos': 0.0, 'compound...</td>\n",
              "    </tr>\n",
              "    <tr>\n",
              "      <th>4</th>\n",
              "      <td>Girish Purohit</td>\n",
              "      <td>@GJ_PUROHIT</td>\n",
              "      <td>Oct-22</td>\n",
              "      <td>1</td>\n",
              "      <td>2</td>\n",
              "      <td>My \\n@AxisBank\\n \\n@AxisBankSupport\\n #Flipkar...</td>\n",
              "      <td>{'neg': 0.188, 'neu': 0.655, 'pos': 0.157, 'co...</td>\n",
              "    </tr>\n",
              "    <tr>\n",
              "      <th>5</th>\n",
              "      <td>Nitin Sethi</td>\n",
              "      <td>@nitinsethi80</td>\n",
              "      <td>Oct-20</td>\n",
              "      <td>NaN</td>\n",
              "      <td>NaN</td>\n",
              "      <td>Flipkart Wholesale partners with Rupifi to off...</td>\n",
              "      <td>{'neg': 0.0, 'neu': 1.0, 'pos': 0.0, 'compound...</td>\n",
              "    </tr>\n",
              "  </tbody>\n",
              "</table>\n",
              "</div>"
            ],
            "text/plain": [
              "                   Name  ...                                             scores\n",
              "1     Meenakshi J Goyal  ...  {'neg': 0.047, 'neu': 0.885, 'pos': 0.068, 'co...\n",
              "2        mystartupyatra  ...  {'neg': 0.0, 'neu': 1.0, 'pos': 0.0, 'compound...\n",
              "3  Marketing Motivation  ...  {'neg': 0.0, 'neu': 1.0, 'pos': 0.0, 'compound...\n",
              "4        Girish Purohit  ...  {'neg': 0.188, 'neu': 0.655, 'pos': 0.157, 'co...\n",
              "5           Nitin Sethi  ...  {'neg': 0.0, 'neu': 1.0, 'pos': 0.0, 'compound...\n",
              "\n",
              "[5 rows x 7 columns]"
            ]
          },
          "metadata": {},
          "execution_count": 78
        }
      ]
    },
    {
      "cell_type": "code",
      "metadata": {
        "colab": {
          "base_uri": "https://localhost:8080/",
          "height": 287
        },
        "id": "sh6WWyxr34a5",
        "outputId": "99ee2291-159e-4186-94be-af53f0f59a13"
      },
      "source": [
        "df['compound']  = df['scores'].apply(lambda score_dict: score_dict['compound'])\n",
        "\n",
        "df.head()"
      ],
      "execution_count": 79,
      "outputs": [
        {
          "output_type": "execute_result",
          "data": {
            "text/html": [
              "<div>\n",
              "<style scoped>\n",
              "    .dataframe tbody tr th:only-of-type {\n",
              "        vertical-align: middle;\n",
              "    }\n",
              "\n",
              "    .dataframe tbody tr th {\n",
              "        vertical-align: top;\n",
              "    }\n",
              "\n",
              "    .dataframe thead th {\n",
              "        text-align: right;\n",
              "    }\n",
              "</style>\n",
              "<table border=\"1\" class=\"dataframe\">\n",
              "  <thead>\n",
              "    <tr style=\"text-align: right;\">\n",
              "      <th></th>\n",
              "      <th>Name</th>\n",
              "      <th>Account</th>\n",
              "      <th>Date</th>\n",
              "      <th>Comments</th>\n",
              "      <th>Retweet</th>\n",
              "      <th>text</th>\n",
              "      <th>scores</th>\n",
              "      <th>compound</th>\n",
              "    </tr>\n",
              "  </thead>\n",
              "  <tbody>\n",
              "    <tr>\n",
              "      <th>1</th>\n",
              "      <td>Meenakshi J Goyal</td>\n",
              "      <td>@meenakshigoyalg</td>\n",
              "      <td>Oct-30</td>\n",
              "      <td>3</td>\n",
              "      <td>2</td>\n",
              "      <td>@Flipkart\\n  I am afraid now to do online paym...</td>\n",
              "      <td>{'neg': 0.047, 'neu': 0.885, 'pos': 0.068, 'co...</td>\n",
              "      <td>0.2177</td>\n",
              "    </tr>\n",
              "    <tr>\n",
              "      <th>2</th>\n",
              "      <td>mystartupyatra</td>\n",
              "      <td>@mystartupyatra</td>\n",
              "      <td>Oct-26</td>\n",
              "      <td>NaN</td>\n",
              "      <td>1</td>\n",
              "      <td>Rupifi : Powering B2B Transactions for SMEs \\n...</td>\n",
              "      <td>{'neg': 0.0, 'neu': 1.0, 'pos': 0.0, 'compound...</td>\n",
              "      <td>0.0000</td>\n",
              "    </tr>\n",
              "    <tr>\n",
              "      <th>3</th>\n",
              "      <td>Marketing Motivation</td>\n",
              "      <td>@marketing_motiv</td>\n",
              "      <td>Oct-23</td>\n",
              "      <td>NaN</td>\n",
              "      <td>NaN</td>\n",
              "      <td>Digital payments leader PhonePe has started ch...</td>\n",
              "      <td>{'neg': 0.0, 'neu': 1.0, 'pos': 0.0, 'compound...</td>\n",
              "      <td>0.0000</td>\n",
              "    </tr>\n",
              "    <tr>\n",
              "      <th>4</th>\n",
              "      <td>Girish Purohit</td>\n",
              "      <td>@GJ_PUROHIT</td>\n",
              "      <td>Oct-22</td>\n",
              "      <td>1</td>\n",
              "      <td>2</td>\n",
              "      <td>My \\n@AxisBank\\n \\n@AxisBankSupport\\n #Flipkar...</td>\n",
              "      <td>{'neg': 0.188, 'neu': 0.655, 'pos': 0.157, 'co...</td>\n",
              "      <td>0.0516</td>\n",
              "    </tr>\n",
              "    <tr>\n",
              "      <th>5</th>\n",
              "      <td>Nitin Sethi</td>\n",
              "      <td>@nitinsethi80</td>\n",
              "      <td>Oct-20</td>\n",
              "      <td>NaN</td>\n",
              "      <td>NaN</td>\n",
              "      <td>Flipkart Wholesale partners with Rupifi to off...</td>\n",
              "      <td>{'neg': 0.0, 'neu': 1.0, 'pos': 0.0, 'compound...</td>\n",
              "      <td>0.0000</td>\n",
              "    </tr>\n",
              "  </tbody>\n",
              "</table>\n",
              "</div>"
            ],
            "text/plain": [
              "                   Name  ... compound\n",
              "1     Meenakshi J Goyal  ...   0.2177\n",
              "2        mystartupyatra  ...   0.0000\n",
              "3  Marketing Motivation  ...   0.0000\n",
              "4        Girish Purohit  ...   0.0516\n",
              "5           Nitin Sethi  ...   0.0000\n",
              "\n",
              "[5 rows x 8 columns]"
            ]
          },
          "metadata": {},
          "execution_count": 79
        }
      ]
    },
    {
      "cell_type": "code",
      "metadata": {
        "colab": {
          "base_uri": "https://localhost:8080/",
          "height": 763
        },
        "id": "xU7qgv_u6Qqh",
        "outputId": "28af945d-bf81-4f32-c8e9-dc0a4cd1c796"
      },
      "source": [
        "df.head(15)"
      ],
      "execution_count": 80,
      "outputs": [
        {
          "output_type": "execute_result",
          "data": {
            "text/html": [
              "<div>\n",
              "<style scoped>\n",
              "    .dataframe tbody tr th:only-of-type {\n",
              "        vertical-align: middle;\n",
              "    }\n",
              "\n",
              "    .dataframe tbody tr th {\n",
              "        vertical-align: top;\n",
              "    }\n",
              "\n",
              "    .dataframe thead th {\n",
              "        text-align: right;\n",
              "    }\n",
              "</style>\n",
              "<table border=\"1\" class=\"dataframe\">\n",
              "  <thead>\n",
              "    <tr style=\"text-align: right;\">\n",
              "      <th></th>\n",
              "      <th>Name</th>\n",
              "      <th>Account</th>\n",
              "      <th>Date</th>\n",
              "      <th>Comments</th>\n",
              "      <th>Retweet</th>\n",
              "      <th>text</th>\n",
              "      <th>scores</th>\n",
              "      <th>compound</th>\n",
              "    </tr>\n",
              "  </thead>\n",
              "  <tbody>\n",
              "    <tr>\n",
              "      <th>1</th>\n",
              "      <td>Meenakshi J Goyal</td>\n",
              "      <td>@meenakshigoyalg</td>\n",
              "      <td>Oct-30</td>\n",
              "      <td>3</td>\n",
              "      <td>2</td>\n",
              "      <td>@Flipkart\\n  I am afraid now to do online paym...</td>\n",
              "      <td>{'neg': 0.047, 'neu': 0.885, 'pos': 0.068, 'co...</td>\n",
              "      <td>0.2177</td>\n",
              "    </tr>\n",
              "    <tr>\n",
              "      <th>2</th>\n",
              "      <td>mystartupyatra</td>\n",
              "      <td>@mystartupyatra</td>\n",
              "      <td>Oct-26</td>\n",
              "      <td>NaN</td>\n",
              "      <td>1</td>\n",
              "      <td>Rupifi : Powering B2B Transactions for SMEs \\n...</td>\n",
              "      <td>{'neg': 0.0, 'neu': 1.0, 'pos': 0.0, 'compound...</td>\n",
              "      <td>0.0000</td>\n",
              "    </tr>\n",
              "    <tr>\n",
              "      <th>3</th>\n",
              "      <td>Marketing Motivation</td>\n",
              "      <td>@marketing_motiv</td>\n",
              "      <td>Oct-23</td>\n",
              "      <td>NaN</td>\n",
              "      <td>NaN</td>\n",
              "      <td>Digital payments leader PhonePe has started ch...</td>\n",
              "      <td>{'neg': 0.0, 'neu': 1.0, 'pos': 0.0, 'compound...</td>\n",
              "      <td>0.0000</td>\n",
              "    </tr>\n",
              "    <tr>\n",
              "      <th>4</th>\n",
              "      <td>Girish Purohit</td>\n",
              "      <td>@GJ_PUROHIT</td>\n",
              "      <td>Oct-22</td>\n",
              "      <td>1</td>\n",
              "      <td>2</td>\n",
              "      <td>My \\n@AxisBank\\n \\n@AxisBankSupport\\n #Flipkar...</td>\n",
              "      <td>{'neg': 0.188, 'neu': 0.655, 'pos': 0.157, 'co...</td>\n",
              "      <td>0.0516</td>\n",
              "    </tr>\n",
              "    <tr>\n",
              "      <th>5</th>\n",
              "      <td>Nitin Sethi</td>\n",
              "      <td>@nitinsethi80</td>\n",
              "      <td>Oct-20</td>\n",
              "      <td>NaN</td>\n",
              "      <td>NaN</td>\n",
              "      <td>Flipkart Wholesale partners with Rupifi to off...</td>\n",
              "      <td>{'neg': 0.0, 'neu': 1.0, 'pos': 0.0, 'compound...</td>\n",
              "      <td>0.0000</td>\n",
              "    </tr>\n",
              "    <tr>\n",
              "      <th>6</th>\n",
              "      <td>YP Buzz</td>\n",
              "      <td>@ypbuzzofficial</td>\n",
              "      <td>Aug-24</td>\n",
              "      <td>NaN</td>\n",
              "      <td>2</td>\n",
              "      <td>RBI to issue new guideline by Jan 2022 \\n\\nhtt...</td>\n",
              "      <td>{'neg': 0.0, 'neu': 0.941, 'pos': 0.059, 'comp...</td>\n",
              "      <td>0.1779</td>\n",
              "    </tr>\n",
              "    <tr>\n",
              "      <th>7</th>\n",
              "      <td>Sharanu.N</td>\n",
              "      <td>@sharanu_ja</td>\n",
              "      <td>Aug-21</td>\n",
              "      <td>2</td>\n",
              "      <td>NaN</td>\n",
              "      <td>Dear \\n@Flipkart\\n what happened to your Andro...</td>\n",
              "      <td>{'neg': 0.099, 'neu': 0.768, 'pos': 0.134, 'co...</td>\n",
              "      <td>0.1965</td>\n",
              "    </tr>\n",
              "    <tr>\n",
              "      <th>8</th>\n",
              "      <td>Renjith R</td>\n",
              "      <td>@renjithr2081</td>\n",
              "      <td>Aug-18</td>\n",
              "      <td>NaN</td>\n",
              "      <td>1</td>\n",
              "      <td>PhonePe closes $700 Mn round with participatio...</td>\n",
              "      <td>{'neg': 0.0, 'neu': 1.0, 'pos': 0.0, 'compound...</td>\n",
              "      <td>0.0000</td>\n",
              "    </tr>\n",
              "    <tr>\n",
              "      <th>9</th>\n",
              "      <td>????????????????????????????</td>\n",
              "      <td>@MarathaaWarrior</td>\n",
              "      <td>Aug-14</td>\n",
              "      <td>1</td>\n",
              "      <td>NaN</td>\n",
              "      <td>What #UPI is for digital payments, #ONDC is go...</td>\n",
              "      <td>{'neg': 0.0, 'neu': 0.807, 'pos': 0.193, 'comp...</td>\n",
              "      <td>0.7096</td>\n",
              "    </tr>\n",
              "    <tr>\n",
              "      <th>10</th>\n",
              "      <td>Biswajit Gaigaria</td>\n",
              "      <td>@BGaigaria</td>\n",
              "      <td>Aug-13</td>\n",
              "      <td>3</td>\n",
              "      <td>NaN</td>\n",
              "      <td>Dear \\n@Flipkart\\n, my order no OD122407885336...</td>\n",
              "      <td>{'neg': 0.052, 'neu': 0.803, 'pos': 0.145, 'co...</td>\n",
              "      <td>0.6072</td>\n",
              "    </tr>\n",
              "    <tr>\n",
              "      <th>11</th>\n",
              "      <td>UmarAshfaq</td>\n",
              "      <td>@UmarAshfaqDL</td>\n",
              "      <td>Aug-04</td>\n",
              "      <td>2</td>\n",
              "      <td>1</td>\n",
              "      <td>In this age of #DigitalIndia the E-commerce gi...</td>\n",
              "      <td>{'neg': 0.076, 'neu': 0.832, 'pos': 0.092, 'co...</td>\n",
              "      <td>0.1818</td>\n",
              "    </tr>\n",
              "    <tr>\n",
              "      <th>12</th>\n",
              "      <td>Saurabh Chhabra</td>\n",
              "      <td>@sunnyy43</td>\n",
              "      <td>Jul-22</td>\n",
              "      <td>2</td>\n",
              "      <td>NaN</td>\n",
              "      <td>Fraud Alert #Flipkart in collaboration with #I...</td>\n",
              "      <td>{'neg': 0.086, 'neu': 0.864, 'pos': 0.05, 'com...</td>\n",
              "      <td>-0.3818</td>\n",
              "    </tr>\n",
              "    <tr>\n",
              "      <th>13</th>\n",
              "      <td>raghav mehta</td>\n",
              "      <td>@raghavm22</td>\n",
              "      <td>Jul-21</td>\n",
              "      <td>1</td>\n",
              "      <td>NaN</td>\n",
              "      <td>How to make payments? How to contact anyone? H...</td>\n",
              "      <td>{'neg': 0.1, 'neu': 0.838, 'pos': 0.061, 'comp...</td>\n",
              "      <td>-0.4436</td>\n",
              "    </tr>\n",
              "    <tr>\n",
              "      <th>14</th>\n",
              "      <td>VARINDIA</td>\n",
              "      <td>@varindiamag</td>\n",
              "      <td>Jul-13</td>\n",
              "      <td>NaN</td>\n",
              "      <td>1</td>\n",
              "      <td>Digital transformation is shaping up the payme...</td>\n",
              "      <td>{'neg': 0.0, 'neu': 1.0, 'pos': 0.0, 'compound...</td>\n",
              "      <td>0.0000</td>\n",
              "    </tr>\n",
              "    <tr>\n",
              "      <th>15</th>\n",
              "      <td>Surya Collection</td>\n",
              "      <td>@SuryaCollectio2</td>\n",
              "      <td>Jul-13</td>\n",
              "      <td>2</td>\n",
              "      <td>NaN</td>\n",
              "      <td>My payments are blocked since 2nd of July and ...</td>\n",
              "      <td>{'neg': 0.27, 'neu': 0.73, 'pos': 0.0, 'compou...</td>\n",
              "      <td>-0.7501</td>\n",
              "    </tr>\n",
              "  </tbody>\n",
              "</table>\n",
              "</div>"
            ],
            "text/plain": [
              "                            Name  ... compound\n",
              "1              Meenakshi J Goyal  ...   0.2177\n",
              "2                 mystartupyatra  ...   0.0000\n",
              "3           Marketing Motivation  ...   0.0000\n",
              "4                 Girish Purohit  ...   0.0516\n",
              "5                    Nitin Sethi  ...   0.0000\n",
              "6                        YP Buzz  ...   0.1779\n",
              "7                      Sharanu.N  ...   0.1965\n",
              "8                      Renjith R  ...   0.0000\n",
              "9   ????????????????????????????  ...   0.7096\n",
              "10            Biswajit Gaigaria   ...   0.6072\n",
              "11                    UmarAshfaq  ...   0.1818\n",
              "12               Saurabh Chhabra  ...  -0.3818\n",
              "13                  raghav mehta  ...  -0.4436\n",
              "14                      VARINDIA  ...   0.0000\n",
              "15              Surya Collection  ...  -0.7501\n",
              "\n",
              "[15 rows x 8 columns]"
            ]
          },
          "metadata": {},
          "execution_count": 80
        }
      ]
    },
    {
      "cell_type": "code",
      "metadata": {
        "id": "E8sugEVb6YzN"
      },
      "source": [
        "target=[] \n",
        "for c in df[\"compound\"]:\n",
        "  if c>0:\n",
        "    target.append(\"Positive\")  \n",
        "  elif c<0:\n",
        "    target.append(\"Negative\")  \n",
        "  else:\n",
        "    target.append(\"Neutral\")\n",
        "\n"
      ],
      "execution_count": 81,
      "outputs": []
    },
    {
      "cell_type": "code",
      "metadata": {
        "id": "_vIlcL9bInv8"
      },
      "source": [
        "df['target'] = target"
      ],
      "execution_count": 82,
      "outputs": []
    },
    {
      "cell_type": "code",
      "metadata": {
        "colab": {
          "base_uri": "https://localhost:8080/",
          "height": 287
        },
        "id": "vNdTLUtpJCGM",
        "outputId": "c9a2791f-0b30-49cf-de1e-4449138c6392"
      },
      "source": [
        "df.head()"
      ],
      "execution_count": 83,
      "outputs": [
        {
          "output_type": "execute_result",
          "data": {
            "text/html": [
              "<div>\n",
              "<style scoped>\n",
              "    .dataframe tbody tr th:only-of-type {\n",
              "        vertical-align: middle;\n",
              "    }\n",
              "\n",
              "    .dataframe tbody tr th {\n",
              "        vertical-align: top;\n",
              "    }\n",
              "\n",
              "    .dataframe thead th {\n",
              "        text-align: right;\n",
              "    }\n",
              "</style>\n",
              "<table border=\"1\" class=\"dataframe\">\n",
              "  <thead>\n",
              "    <tr style=\"text-align: right;\">\n",
              "      <th></th>\n",
              "      <th>Name</th>\n",
              "      <th>Account</th>\n",
              "      <th>Date</th>\n",
              "      <th>Comments</th>\n",
              "      <th>Retweet</th>\n",
              "      <th>text</th>\n",
              "      <th>scores</th>\n",
              "      <th>compound</th>\n",
              "      <th>target</th>\n",
              "    </tr>\n",
              "  </thead>\n",
              "  <tbody>\n",
              "    <tr>\n",
              "      <th>1</th>\n",
              "      <td>Meenakshi J Goyal</td>\n",
              "      <td>@meenakshigoyalg</td>\n",
              "      <td>Oct-30</td>\n",
              "      <td>3</td>\n",
              "      <td>2</td>\n",
              "      <td>@Flipkart\\n  I am afraid now to do online paym...</td>\n",
              "      <td>{'neg': 0.047, 'neu': 0.885, 'pos': 0.068, 'co...</td>\n",
              "      <td>0.2177</td>\n",
              "      <td>Positive</td>\n",
              "    </tr>\n",
              "    <tr>\n",
              "      <th>2</th>\n",
              "      <td>mystartupyatra</td>\n",
              "      <td>@mystartupyatra</td>\n",
              "      <td>Oct-26</td>\n",
              "      <td>NaN</td>\n",
              "      <td>1</td>\n",
              "      <td>Rupifi : Powering B2B Transactions for SMEs \\n...</td>\n",
              "      <td>{'neg': 0.0, 'neu': 1.0, 'pos': 0.0, 'compound...</td>\n",
              "      <td>0.0000</td>\n",
              "      <td>Neutral</td>\n",
              "    </tr>\n",
              "    <tr>\n",
              "      <th>3</th>\n",
              "      <td>Marketing Motivation</td>\n",
              "      <td>@marketing_motiv</td>\n",
              "      <td>Oct-23</td>\n",
              "      <td>NaN</td>\n",
              "      <td>NaN</td>\n",
              "      <td>Digital payments leader PhonePe has started ch...</td>\n",
              "      <td>{'neg': 0.0, 'neu': 1.0, 'pos': 0.0, 'compound...</td>\n",
              "      <td>0.0000</td>\n",
              "      <td>Neutral</td>\n",
              "    </tr>\n",
              "    <tr>\n",
              "      <th>4</th>\n",
              "      <td>Girish Purohit</td>\n",
              "      <td>@GJ_PUROHIT</td>\n",
              "      <td>Oct-22</td>\n",
              "      <td>1</td>\n",
              "      <td>2</td>\n",
              "      <td>My \\n@AxisBank\\n \\n@AxisBankSupport\\n #Flipkar...</td>\n",
              "      <td>{'neg': 0.188, 'neu': 0.655, 'pos': 0.157, 'co...</td>\n",
              "      <td>0.0516</td>\n",
              "      <td>Positive</td>\n",
              "    </tr>\n",
              "    <tr>\n",
              "      <th>5</th>\n",
              "      <td>Nitin Sethi</td>\n",
              "      <td>@nitinsethi80</td>\n",
              "      <td>Oct-20</td>\n",
              "      <td>NaN</td>\n",
              "      <td>NaN</td>\n",
              "      <td>Flipkart Wholesale partners with Rupifi to off...</td>\n",
              "      <td>{'neg': 0.0, 'neu': 1.0, 'pos': 0.0, 'compound...</td>\n",
              "      <td>0.0000</td>\n",
              "      <td>Neutral</td>\n",
              "    </tr>\n",
              "  </tbody>\n",
              "</table>\n",
              "</div>"
            ],
            "text/plain": [
              "                   Name           Account  ... compound    target\n",
              "1     Meenakshi J Goyal  @meenakshigoyalg  ...   0.2177  Positive\n",
              "2        mystartupyatra   @mystartupyatra  ...   0.0000   Neutral\n",
              "3  Marketing Motivation  @marketing_motiv  ...   0.0000   Neutral\n",
              "4        Girish Purohit       @GJ_PUROHIT  ...   0.0516  Positive\n",
              "5           Nitin Sethi     @nitinsethi80  ...   0.0000   Neutral\n",
              "\n",
              "[5 rows x 9 columns]"
            ]
          },
          "metadata": {},
          "execution_count": 83
        }
      ]
    },
    {
      "cell_type": "code",
      "metadata": {
        "colab": {
          "base_uri": "https://localhost:8080/",
          "height": 295
        },
        "id": "rpj3PaLxJFxF",
        "outputId": "51c6f5b2-e2b0-466f-abfb-4cc5bf04cb89"
      },
      "source": [
        "# Plotting the distribution for dataset.\n",
        "ax = df.groupby('target').count().plot(kind='bar', title='Distribution of data',legend=False)\n",
        "ax.set_xticklabels(['Negative','Positive',\"Neutral\"], rotation=0)\n",
        "# Storing data in lists.\n",
        "text, sentiment = list(df['text']), list(df['target'])"
      ],
      "execution_count": 84,
      "outputs": [
        {
          "output_type": "display_data",
          "data": {
            "image/png": "[encoded data removed]",
            "text/plain": [
              "<Figure size 432x288 with 1 Axes>"
            ]
          },
          "metadata": {
            "needs_background": "light"
          }
        }
      ]
    },
    {
      "cell_type": "code",
      "metadata": {
        "colab": {
          "base_uri": "https://localhost:8080/",
          "height": 296
        },
        "id": "aHTrB4WRI_sM",
        "outputId": "b5280fe1-d17c-4fe4-a8b8-f8bb1297ed66"
      },
      "source": [
        "import seaborn as sns\n",
        "sns.countplot(x='target', data=df)"
      ],
      "execution_count": 85,
      "outputs": [
        {
          "output_type": "execute_result",
          "data": {
            "text/plain": [
              "<matplotlib.axes._subplots.AxesSubplot at 0x7f08709d7250>"
            ]
          },
          "metadata": {},
          "execution_count": 85
        },
        {
          "output_type": "display_data",
          "data": {
            "image/png": "[encoded data removed]",
            "text/plain": [
              "<Figure size 432x288 with 1 Axes>"
            ]
          },
          "metadata": {
            "needs_background": "light"
          }
        }
      ]
    },
    {
      "cell_type": "code",
      "metadata": {
        "id": "S6OjQw_w7eoF"
      },
      "source": [
        ""
      ],
      "execution_count": 85,
      "outputs": []
    },
    {
      "cell_type": "code",
      "metadata": {
        "id": "w1WDwyvl7kPe"
      },
      "source": [
        ""
      ],
      "execution_count": 85,
      "outputs": []
    },
    {
      "cell_type": "code",
      "metadata": {
        "id": "uS2FAbTR74Py"
      },
      "source": [
        ""
      ],
      "execution_count": 85,
      "outputs": []
    }
  ]
}