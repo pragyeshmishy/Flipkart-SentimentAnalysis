{
  "nbformat": 4,
  "nbformat_minor": 0,
  "metadata": {
    "colab": {
      "name": "Flipkart-SentimentAnalysis.ipynb",
      "provenance": [],
      "collapsed_sections": [],
      "mount_file_id": "1x_NYwCEK0i8uKdd7LoDAok9G2cl3FRe0",
      "authorship_tag": "ABX9TyNsUa1Zk/9Ye0su6P2IfP01",
      "include_colab_link": true
    },
    "kernelspec": {
      "name": "python3",
      "display_name": "Python 3"
    },
    "language_info": {
      "name": "python"
    },
    "accelerator": "GPU"
  },
  "cells": [
    {
      "cell_type": "markdown",
      "metadata": {
        "id": "view-in-github",
        "colab_type": "text"
      },
      "source": [
        "<a href=\"https://colab.research.google.com/github/pragyeshmishy/Flipkart-SentimentAnalysis/blob/main/Flipkart_SentimentAnalysis.ipynb\" target=\"_parent\"><img src=\"https://colab.research.google.com/assets/colab-badge.svg\" alt=\"Open In Colab\"/></a>"
      ]
    },
    {
      "cell_type": "code",
      "metadata": {
        "id": "pP7LFkNP7IPw"
      },
      "source": [
        "# utilities\n",
        "import re\n",
        "import numpy as np\n",
        "import pandas as pd\n",
        "# plotting\n",
        "import seaborn as sns\n",
        "from wordcloud import WordCloud\n",
        "import matplotlib.pyplot as plt\n",
        "# nltk\n",
        "from nltk.stem import WordNetLemmatizer\n",
        "# sklearn\n",
        "from sklearn.svm import LinearSVC\n",
        "from sklearn.naive_bayes import BernoulliNB\n",
        "from sklearn.linear_model import LogisticRegression\n",
        "from sklearn.model_selection import train_test_split\n",
        "from sklearn.feature_extraction.text import TfidfVectorizer\n",
        "from sklearn.metrics import confusion_matrix, classification_report"
      ],
      "execution_count": null,
      "outputs": []
    },
    {
      "cell_type": "code",
      "metadata": {
        "colab": {
          "base_uri": "https://localhost:8080/",
          "height": 205
        },
        "id": "tFq233_Mw-8o",
        "outputId": "4b646e57-c9e7-4bdd-c386-ffbba3361b37"
      },
      "source": [
        "# Importing the dataset\n",
        "DATASET_COLUMNS=['Name','Account','Date','Comments','Retweet','text']\n",
        "DATASET_ENCODING = \"ISO-8859-1\"\n",
        "df = pd.read_csv('/content/drive/MyDrive/twiterdata.csv', encoding=DATASET_ENCODING, names=DATASET_COLUMNS)\n",
        "df.sample(5)"
      ],
      "execution_count": null,
      "outputs": [
        {
          "output_type": "execute_result",
          "data": {
            "text/html": [
              "<div>\n",
              "<style scoped>\n",
              "    .dataframe tbody tr th:only-of-type {\n",
              "        vertical-align: middle;\n",
              "    }\n",
              "\n",
              "    .dataframe tbody tr th {\n",
              "        vertical-align: top;\n",
              "    }\n",
              "\n",
              "    .dataframe thead th {\n",
              "        text-align: right;\n",
              "    }\n",
              "</style>\n",
              "<table border=\"1\" class=\"dataframe\">\n",
              "  <thead>\n",
              "    <tr style=\"text-align: right;\">\n",
              "      <th></th>\n",
              "      <th>Name</th>\n",
              "      <th>Account</th>\n",
              "      <th>Date</th>\n",
              "      <th>Comments</th>\n",
              "      <th>Retweet</th>\n",
              "      <th>text</th>\n",
              "    </tr>\n",
              "  </thead>\n",
              "  <tbody>\n",
              "    <tr>\n",
              "      <th>200</th>\n",
              "      <td>Business Today</td>\n",
              "      <td>@business_today</td>\n",
              "      <td>May 7, 2018</td>\n",
              "      <td>NaN</td>\n",
              "      <td>NaN</td>\n",
              "      <td>#Instagram has launched payments option within...</td>\n",
              "    </tr>\n",
              "    <tr>\n",
              "      <th>79</th>\n",
              "      <td>Aggarwal Books India</td>\n",
              "      <td>@Aggarwal_Books</td>\n",
              "      <td>Sep 15, 2020</td>\n",
              "      <td>NaN</td>\n",
              "      <td>NaN</td>\n",
              "      <td>Replying to \\n@FlipkartSellers</td>\n",
              "    </tr>\n",
              "    <tr>\n",
              "      <th>234</th>\n",
              "      <td>TRANSFIN. Making Finance Work for You</td>\n",
              "      <td>@TFinMedia</td>\n",
              "      <td>Oct 20, 2017</td>\n",
              "      <td>NaN</td>\n",
              "      <td>NaN</td>\n",
              "      <td>#Amazon inject INR260cr into its payments unit...</td>\n",
              "    </tr>\n",
              "    <tr>\n",
              "      <th>334</th>\n",
              "      <td>Buy Domains India</td>\n",
              "      <td>@buydomainsindia</td>\n",
              "      <td>Sep 13, 2016</td>\n",
              "      <td>NaN</td>\n",
              "      <td>NaN</td>\n",
              "      <td>Replying to \\n@Branduble</td>\n",
              "    </tr>\n",
              "    <tr>\n",
              "      <th>131</th>\n",
              "      <td>Marketing Stories</td>\n",
              "      <td>@Marketing_Stry</td>\n",
              "      <td>Oct 25, 2019</td>\n",
              "      <td>1</td>\n",
              "      <td>1</td>\n",
              "      <td>Did You Know?\\nDigital Payments App PhonePe is...</td>\n",
              "    </tr>\n",
              "  </tbody>\n",
              "</table>\n",
              "</div>"
            ],
            "text/plain": [
              "                                      Name  ...                                               text\n",
              "200                         Business Today  ...  #Instagram has launched payments option within...\n",
              "79                    Aggarwal Books India  ...                     Replying to \\n@FlipkartSellers\n",
              "234  TRANSFIN. Making Finance Work for You  ...  #Amazon inject INR260cr into its payments unit...\n",
              "334                      Buy Domains India  ...                           Replying to \\n@Branduble\n",
              "131                      Marketing Stories  ...  Did You Know?\\nDigital Payments App PhonePe is...\n",
              "\n",
              "[5 rows x 6 columns]"
            ]
          },
          "metadata": {},
          "execution_count": 242
        }
      ]
    },
    {
      "cell_type": "code",
      "metadata": {
        "colab": {
          "base_uri": "https://localhost:8080/",
          "height": 205
        },
        "id": "Fz0OuWQoybUc",
        "outputId": "153abfad-4e3f-4bb0-8582-31b112ab6ad9"
      },
      "source": [
        "df = df.iloc[1:]\n",
        "df.head(5)\n"
      ],
      "execution_count": null,
      "outputs": [
        {
          "output_type": "execute_result",
          "data": {
            "text/html": [
              "<div>\n",
              "<style scoped>\n",
              "    .dataframe tbody tr th:only-of-type {\n",
              "        vertical-align: middle;\n",
              "    }\n",
              "\n",
              "    .dataframe tbody tr th {\n",
              "        vertical-align: top;\n",
              "    }\n",
              "\n",
              "    .dataframe thead th {\n",
              "        text-align: right;\n",
              "    }\n",
              "</style>\n",
              "<table border=\"1\" class=\"dataframe\">\n",
              "  <thead>\n",
              "    <tr style=\"text-align: right;\">\n",
              "      <th></th>\n",
              "      <th>Name</th>\n",
              "      <th>Account</th>\n",
              "      <th>Date</th>\n",
              "      <th>Comments</th>\n",
              "      <th>Retweet</th>\n",
              "      <th>text</th>\n",
              "    </tr>\n",
              "  </thead>\n",
              "  <tbody>\n",
              "    <tr>\n",
              "      <th>1</th>\n",
              "      <td>Meenakshi J Goyal</td>\n",
              "      <td>@meenakshigoyalg</td>\n",
              "      <td>Oct-30</td>\n",
              "      <td>3</td>\n",
              "      <td>2</td>\n",
              "      <td>@Flipkart\\n  I am afraid now to do online paym...</td>\n",
              "    </tr>\n",
              "    <tr>\n",
              "      <th>2</th>\n",
              "      <td>mystartupyatra</td>\n",
              "      <td>@mystartupyatra</td>\n",
              "      <td>Oct-26</td>\n",
              "      <td>NaN</td>\n",
              "      <td>1</td>\n",
              "      <td>Rupifi : Powering B2B Transactions for SMEs \\n...</td>\n",
              "    </tr>\n",
              "    <tr>\n",
              "      <th>3</th>\n",
              "      <td>Marketing Motivation</td>\n",
              "      <td>@marketing_motiv</td>\n",
              "      <td>Oct-23</td>\n",
              "      <td>NaN</td>\n",
              "      <td>NaN</td>\n",
              "      <td>Digital payments leader PhonePe has started ch...</td>\n",
              "    </tr>\n",
              "    <tr>\n",
              "      <th>4</th>\n",
              "      <td>Girish Purohit</td>\n",
              "      <td>@GJ_PUROHIT</td>\n",
              "      <td>Oct-22</td>\n",
              "      <td>1</td>\n",
              "      <td>2</td>\n",
              "      <td>My \\n@AxisBank\\n \\n@AxisBankSupport\\n #Flipkar...</td>\n",
              "    </tr>\n",
              "    <tr>\n",
              "      <th>5</th>\n",
              "      <td>Nitin Sethi</td>\n",
              "      <td>@nitinsethi80</td>\n",
              "      <td>Oct-20</td>\n",
              "      <td>NaN</td>\n",
              "      <td>NaN</td>\n",
              "      <td>Flipkart Wholesale partners with Rupifi to off...</td>\n",
              "    </tr>\n",
              "  </tbody>\n",
              "</table>\n",
              "</div>"
            ],
            "text/plain": [
              "                   Name  ...                                               text\n",
              "1     Meenakshi J Goyal  ...  @Flipkart\\n  I am afraid now to do online paym...\n",
              "2        mystartupyatra  ...  Rupifi : Powering B2B Transactions for SMEs \\n...\n",
              "3  Marketing Motivation  ...  Digital payments leader PhonePe has started ch...\n",
              "4        Girish Purohit  ...  My \\n@AxisBank\\n \\n@AxisBankSupport\\n #Flipkar...\n",
              "5           Nitin Sethi  ...  Flipkart Wholesale partners with Rupifi to off...\n",
              "\n",
              "[5 rows x 6 columns]"
            ]
          },
          "metadata": {},
          "execution_count": 243
        }
      ]
    },
    {
      "cell_type": "code",
      "metadata": {
        "colab": {
          "base_uri": "https://localhost:8080/"
        },
        "id": "bKamnuAUJ8XZ",
        "outputId": "2f22ba1b-ea3e-4c1a-acc6-7e2ced94c917"
      },
      "source": [
        "df['text']=df['text'].str.lower()\n",
        "df['text']"
      ],
      "execution_count": null,
      "outputs": [
        {
          "output_type": "execute_result",
          "data": {
            "text/plain": [
              "1      @flipkart\\n  i am afraid now to do online paym...\n",
              "2      rupifi : powering b2b transactions for smes \\n...\n",
              "3      digital payments leader phonepe has started ch...\n",
              "4      my \\n@axisbank\\n \\n@axisbanksupport\\n #flipkar...\n",
              "5      flipkart wholesale partners with rupifi to off...\n",
              "                             ...                        \n",
              "330    #flipkart #bigbilliondaystonight not getting p...\n",
              "331    #digital #disruption has reached #apac, with #...\n",
              "332    #newly #launched #mobile #payments arm of #fli...\n",
              "333    http://phonepewallet.com is for sale on \\n@fli...\n",
              "334                             replying to \\n@branduble\n",
              "Name: text, Length: 334, dtype: object"
            ]
          },
          "metadata": {},
          "execution_count": 244
        }
      ]
    },
    {
      "cell_type": "code",
      "metadata": {
        "id": "_9LRvNHhJ9xa"
      },
      "source": [
        "stopwordlist = ['a', 'about', 'above', 'after', 'again', 'ain', 'all', 'am', 'an',\n",
        "             'and','any','are', 'as', 'at', 'be', 'because', 'been', 'before',\n",
        "             'being', 'below', 'between','both', 'by', 'can', 'd', 'did', 'do',\n",
        "             'does', 'doing', 'down', 'during', 'each','few', 'for', 'from',\n",
        "             'further', 'had', 'has', 'have', 'having', 'he', 'her', 'here',\n",
        "             'hers', 'herself', 'him', 'himself', 'his', 'how', 'i', 'if', 'in',\n",
        "             'into','is', 'it', 'its', 'itself', 'just', 'll', 'm', 'ma',\n",
        "             'me', 'more', 'most','my', 'myself', 'now', 'o', 'of', 'on', 'once',\n",
        "             'only', 'or', 'other', 'our', 'ours','ourselves', 'out', 'own', 're','s', 'same', 'she', \"shes\", 'should', \"shouldve\",'so', 'some', 'such',\n",
        "             't', 'than', 'that', \"thatll\", 'the', 'their', 'theirs', 'them',\n",
        "             'themselves', 'then', 'there', 'these', 'they', 'this', 'those',\n",
        "             'through', 'to', 'too','under', 'until', 'up', 've', 'very', 'was',\n",
        "             'we', 'were', 'what', 'when', 'where','which','while', 'who', 'whom',\n",
        "             'why', 'will', 'with', 'won', 'y', 'you', \"youd\",\"youll\", \"youre\",\n",
        "             \"youve\", 'your', 'yours', 'yourself', 'yourselves']"
      ],
      "execution_count": null,
      "outputs": []
    },
    {
      "cell_type": "markdown",
      "metadata": {
        "id": "9qORydWVLNQ5"
      },
      "source": [
        "***Cleaning and removing the above stop words list from the tweet text***"
      ]
    },
    {
      "cell_type": "code",
      "metadata": {
        "colab": {
          "base_uri": "https://localhost:8080/"
        },
        "id": "o5Mb5k_XJ9-0",
        "outputId": "765fed85-3d0f-48c4-d97e-05157e9531a5"
      },
      "source": [
        "# Cleaning and removing the above stop words list from the tweet text\n",
        "STOPWORDS = set(stopwordlist)\n",
        "def cleaning_stopwords(text):\n",
        "    return \" \".join([word for word in str(text).split() if word not in STOPWORDS])\n",
        "df['text'] = df['text'].apply(lambda text: cleaning_stopwords(text))\n",
        "df['text'].head()"
      ],
      "execution_count": null,
      "outputs": [
        {
          "output_type": "execute_result",
          "data": {
            "text/plain": [
              "1    @flipkart afraid online payments. better chose...\n",
              "2    rupifi : powering b2b transactions smes #india...\n",
              "3    digital payments leader phonepe started chargi...\n",
              "4    @axisbank @axisbanksupport #flipkart cc charge...\n",
              "5    flipkart wholesale partners rupifi offer bnpl ...\n",
              "Name: text, dtype: object"
            ]
          },
          "metadata": {},
          "execution_count": 246
        }
      ]
    },
    {
      "cell_type": "markdown",
      "metadata": {
        "id": "9T8oPW2TLhmN"
      },
      "source": [
        "**Cleaning and removing punctuations**"
      ]
    },
    {
      "cell_type": "code",
      "metadata": {
        "colab": {
          "base_uri": "https://localhost:8080/"
        },
        "id": "Jr6PnGQfJ-Gl",
        "outputId": "425524cb-4025-4e30-ab27-300f94810b4b"
      },
      "source": [
        "import string\n",
        "english_punctuations = string.punctuation\n",
        "punctuations_list = english_punctuations\n",
        "def cleaning_punctuations(text):\n",
        "    translator = str.maketrans('', '', punctuations_list)\n",
        "    return text.translate(translator)\n",
        "df['text']= df['text'].apply(lambda x: cleaning_punctuations(x))\n",
        "df['text'].tail()"
      ],
      "execution_count": null,
      "outputs": [
        {
          "output_type": "execute_result",
          "data": {
            "text/plain": [
              "330    flipkart bigbilliondaystonight not getting pay...\n",
              "331    digital disruption reached apac kakaopay flipk...\n",
              "332    newly launched mobile payments arm flipkart ph...\n",
              "333    httpphonepewalletcom sale flippa  httpsflippac...\n",
              "334                                   replying branduble\n",
              "Name: text, dtype: object"
            ]
          },
          "metadata": {},
          "execution_count": 247
        }
      ]
    },
    {
      "cell_type": "markdown",
      "metadata": {
        "id": "0mg9b8ZzLvkj"
      },
      "source": [
        "**Cleaning and removing repeating characters and URLs**"
      ]
    },
    {
      "cell_type": "code",
      "metadata": {
        "colab": {
          "base_uri": "https://localhost:8080/"
        },
        "id": "bIqHRm2yJ-Ml",
        "outputId": "d143469e-4199-4cc8-8edc-7f4b87b5d690"
      },
      "source": [
        "def cleaning_repeating_char(text):\n",
        "    return re.sub(r'(.)1+', r'1', text)\n",
        "df['text'] = df['text'].apply(lambda x: cleaning_repeating_char(x))\n",
        "df['text'].tail()"
      ],
      "execution_count": null,
      "outputs": [
        {
          "output_type": "execute_result",
          "data": {
            "text/plain": [
              "330    flipkart bigbilliondaystonight not getting pay...\n",
              "331    digital disruption reached apac kakaopay flipk...\n",
              "332    newly launched mobile payments arm flipkart ph...\n",
              "333    httpphonepewalletcom sale flippa  httpsflippac...\n",
              "334                                   replying branduble\n",
              "Name: text, dtype: object"
            ]
          },
          "metadata": {},
          "execution_count": 248
        }
      ]
    },
    {
      "cell_type": "code",
      "metadata": {
        "colab": {
          "base_uri": "https://localhost:8080/"
        },
        "id": "GTOXbRryL7-w",
        "outputId": "6b937038-3c5b-4878-d0f9-4991f244c56a"
      },
      "source": [
        "def cleaning_URLs(data):\n",
        "    return re.sub('((www.[^s]+)|(https?://[^s]+))',' ',data)\n",
        "df['text'] = df['text'].apply(lambda x: cleaning_URLs(x))\n",
        "df['text'].tail(15)"
      ],
      "execution_count": null,
      "outputs": [
        {
          "output_type": "execute_result",
          "data": {
            "text/plain": [
              "320    flipkartowned mobile payments startup phonepe ...\n",
              "321    flipkart phonepe wallet use phonepe upi based ...\n",
              "322    flipkartbigbillion sale flop payments not work...\n",
              "323    flipkart bigbilliondaystonight not getting pay...\n",
              "324    flipkart bigbilliondaystonight not getting pay...\n",
              "325    digital disruption reached apac kakaopay flipk...\n",
              "326    newly launched mobile payments arm flipkart ph...\n",
              "327    httpphonepewalletcom sale flippa  httpsflippac...\n",
              "328                                   replying branduble\n",
              "329    flipkart bigbilliondaystonight not getting pay...\n",
              "330    flipkart bigbilliondaystonight not getting pay...\n",
              "331    digital disruption reached apac kakaopay flipk...\n",
              "332    newly launched mobile payments arm flipkart ph...\n",
              "333    httpphonepewalletcom sale flippa  httpsflippac...\n",
              "334                                   replying branduble\n",
              "Name: text, dtype: object"
            ]
          },
          "metadata": {},
          "execution_count": 249
        }
      ]
    },
    {
      "cell_type": "markdown",
      "metadata": {
        "id": "pAFl7bA8MSed"
      },
      "source": [
        "**Cleaning and removing Numeric numbers**"
      ]
    },
    {
      "cell_type": "code",
      "metadata": {
        "colab": {
          "base_uri": "https://localhost:8080/"
        },
        "id": "_yP2UVaWMPsk",
        "outputId": "560ac742-4353-445f-bebf-c8769565e54f"
      },
      "source": [
        "def cleaning_numbers(data):\n",
        "    return re.sub('[0-9]+', '', data)\n",
        "df['text'] = df['text'].apply(lambda x: str(cleaning_numbers(x)))\n",
        "df['text'].tail(15)"
      ],
      "execution_count": null,
      "outputs": [
        {
          "output_type": "execute_result",
          "data": {
            "text/plain": [
              "320    flipkartowned mobile payments startup phonepe ...\n",
              "321    flipkart phonepe wallet use phonepe upi based ...\n",
              "322    flipkartbigbillion sale flop payments not work...\n",
              "323    flipkart bigbilliondaystonight not getting pay...\n",
              "324    flipkart bigbilliondaystonight not getting pay...\n",
              "325    digital disruption reached apac kakaopay flipk...\n",
              "326    newly launched mobile payments arm flipkart ph...\n",
              "327    httpphonepewalletcom sale flippa  httpsflippac...\n",
              "328                                   replying branduble\n",
              "329    flipkart bigbilliondaystonight not getting pay...\n",
              "330    flipkart bigbilliondaystonight not getting pay...\n",
              "331    digital disruption reached apac kakaopay flipk...\n",
              "332    newly launched mobile payments arm flipkart ph...\n",
              "333    httpphonepewalletcom sale flippa  httpsflippac...\n",
              "334                                   replying branduble\n",
              "Name: text, dtype: object"
            ]
          },
          "metadata": {},
          "execution_count": 250
        }
      ]
    },
    {
      "cell_type": "markdown",
      "metadata": {
        "id": "aTLj-McqMuRR"
      },
      "source": [
        "**Getting tokenization of tweet text**"
      ]
    },
    {
      "cell_type": "code",
      "metadata": {
        "id": "zPKEmIMLMPlh"
      },
      "source": [
        "# import nltk \n",
        "# nltk.download('punkt')\n",
        "# from nltk.tokenize import word_tokenize\n",
        "\n",
        "# # for i in df['text']:\n",
        "# df['text'] = df['text'].apply(word_tokenize)\n",
        "# df[\"text\"]\n",
        "  # print(i)\n",
        "\n",
        "\n",
        "\n",
        "# sent_tokenize(df['text'])\n",
        "# df['text'] = df['text'].apply(tokenizer.tokenize)\n"
      ],
      "execution_count": null,
      "outputs": []
    },
    {
      "cell_type": "code",
      "metadata": {
        "id": "_M22lphfMPYF"
      },
      "source": [
        "# df.drop(\"w_token\", axis=1)"
      ],
      "execution_count": null,
      "outputs": []
    },
    {
      "cell_type": "code",
      "metadata": {
        "colab": {
          "base_uri": "https://localhost:8080/"
        },
        "id": "ueJrg2MkVNI3",
        "outputId": "49b07a88-5e90-44a1-ea09-bb94598e4a2b"
      },
      "source": [
        "import nltk\n",
        "st = nltk.PorterStemmer()\n",
        "def stemming_on_text(data):\n",
        "    text = [st.stem(word) for word in data]\n",
        "    return data\n",
        "df['text']= df['text'].apply(lambda x: stemming_on_text(x))\n",
        "df['text'].head()"
      ],
      "execution_count": null,
      "outputs": [
        {
          "output_type": "execute_result",
          "data": {
            "text/plain": [
              "1    flipkart afraid online payments better chose c...\n",
              "2    rupifi  powering bb transactions smes india so...\n",
              "3    digital payments leader phonepe started chargi...\n",
              "4    axisbank axisbanksupport flipkart cc charged i...\n",
              "5    flipkart wholesale partners rupifi offer bnpl ...\n",
              "Name: text, dtype: object"
            ]
          },
          "metadata": {},
          "execution_count": 253
        }
      ]
    },
    {
      "cell_type": "code",
      "metadata": {
        "colab": {
          "base_uri": "https://localhost:8080/"
        },
        "id": "Ij-gwjPAzlii",
        "outputId": "9dd403e2-eb53-473b-9ace-b0bf38396784"
      },
      "source": [
        "print('Count of columns in the data is:  ', len(df.columns))\n",
        "print('Count of rows in the data is:  ', len(df))"
      ],
      "execution_count": null,
      "outputs": [
        {
          "output_type": "stream",
          "name": "stdout",
          "text": [
            "Count of columns in the data is:   6\n",
            "Count of rows in the data is:   334\n"
          ]
        }
      ]
    },
    {
      "cell_type": "code",
      "metadata": {
        "colab": {
          "base_uri": "https://localhost:8080/"
        },
        "id": "8QxckgbBzp_I",
        "outputId": "d2779cb7-2eb6-4e64-9400-962b9585ea36"
      },
      "source": [
        "# pip install vaderSentiment\n",
        "df[\"text\"] = df[\"text\"].replace(',','')\n",
        "df[\"text\"]"
      ],
      "execution_count": null,
      "outputs": [
        {
          "output_type": "execute_result",
          "data": {
            "text/plain": [
              "1      flipkart afraid online payments better chose c...\n",
              "2      rupifi  powering bb transactions smes india so...\n",
              "3      digital payments leader phonepe started chargi...\n",
              "4      axisbank axisbanksupport flipkart cc charged i...\n",
              "5      flipkart wholesale partners rupifi offer bnpl ...\n",
              "                             ...                        \n",
              "330    flipkart bigbilliondaystonight not getting pay...\n",
              "331    digital disruption reached apac kakaopay flipk...\n",
              "332    newly launched mobile payments arm flipkart ph...\n",
              "333    httpphonepewalletcom sale flippa  httpsflippac...\n",
              "334                                   replying branduble\n",
              "Name: text, Length: 334, dtype: object"
            ]
          },
          "metadata": {},
          "execution_count": 255
        }
      ]
    },
    {
      "cell_type": "code",
      "metadata": {
        "id": "gFojVkwwzuMc",
        "colab": {
          "base_uri": "https://localhost:8080/"
        },
        "outputId": "4add063e-73b5-4a43-faa5-3f7f9d25840f"
      },
      "source": [
        "!pip install vaderSentiment\n",
        "from vaderSentiment.vaderSentiment import SentimentIntensityAnalyzer\n",
        "analyzer = SentimentIntensityAnalyzer()"
      ],
      "execution_count": null,
      "outputs": [
        {
          "output_type": "stream",
          "name": "stdout",
          "text": [
            "Requirement already satisfied: vaderSentiment in /usr/local/lib/python3.7/dist-packages (3.3.2)\n",
            "Requirement already satisfied: requests in /usr/local/lib/python3.7/dist-packages (from vaderSentiment) (2.23.0)\n",
            "Requirement already satisfied: urllib3!=1.25.0,!=1.25.1,<1.26,>=1.21.1 in /usr/local/lib/python3.7/dist-packages (from requests->vaderSentiment) (1.24.3)\n",
            "Requirement already satisfied: certifi>=2017.4.17 in /usr/local/lib/python3.7/dist-packages (from requests->vaderSentiment) (2021.10.8)\n",
            "Requirement already satisfied: chardet<4,>=3.0.2 in /usr/local/lib/python3.7/dist-packages (from requests->vaderSentiment) (3.0.4)\n",
            "Requirement already satisfied: idna<3,>=2.5 in /usr/local/lib/python3.7/dist-packages (from requests->vaderSentiment) (2.10)\n"
          ]
        }
      ]
    },
    {
      "cell_type": "code",
      "metadata": {
        "colab": {
          "base_uri": "https://localhost:8080/"
        },
        "id": "YCPnbPm009Ye",
        "outputId": "a379bad8-15f8-49b3-bb27-49666df2be5d"
      },
      "source": [
        "dfsent=df[\"text\"]\n",
        "dfsent"
      ],
      "execution_count": null,
      "outputs": [
        {
          "output_type": "execute_result",
          "data": {
            "text/plain": [
              "1      flipkart afraid online payments better chose c...\n",
              "2      rupifi  powering bb transactions smes india so...\n",
              "3      digital payments leader phonepe started chargi...\n",
              "4      axisbank axisbanksupport flipkart cc charged i...\n",
              "5      flipkart wholesale partners rupifi offer bnpl ...\n",
              "                             ...                        \n",
              "330    flipkart bigbilliondaystonight not getting pay...\n",
              "331    digital disruption reached apac kakaopay flipk...\n",
              "332    newly launched mobile payments arm flipkart ph...\n",
              "333    httpphonepewalletcom sale flippa  httpsflippac...\n",
              "334                                   replying branduble\n",
              "Name: text, Length: 334, dtype: object"
            ]
          },
          "metadata": {},
          "execution_count": 257
        }
      ]
    },
    {
      "cell_type": "code",
      "metadata": {
        "colab": {
          "base_uri": "https://localhost:8080/",
          "height": 205
        },
        "id": "Iv8Vd0Zd2EEt",
        "outputId": "9d53e853-22f6-468a-cd32-a4f5be814c37"
      },
      "source": [
        "df['scores'] = df['text'].apply(lambda review: analyzer.polarity_scores(review))\n",
        "\n",
        "df.head()"
      ],
      "execution_count": null,
      "outputs": [
        {
          "output_type": "execute_result",
          "data": {
            "text/html": [
              "<div>\n",
              "<style scoped>\n",
              "    .dataframe tbody tr th:only-of-type {\n",
              "        vertical-align: middle;\n",
              "    }\n",
              "\n",
              "    .dataframe tbody tr th {\n",
              "        vertical-align: top;\n",
              "    }\n",
              "\n",
              "    .dataframe thead th {\n",
              "        text-align: right;\n",
              "    }\n",
              "</style>\n",
              "<table border=\"1\" class=\"dataframe\">\n",
              "  <thead>\n",
              "    <tr style=\"text-align: right;\">\n",
              "      <th></th>\n",
              "      <th>Name</th>\n",
              "      <th>Account</th>\n",
              "      <th>Date</th>\n",
              "      <th>Comments</th>\n",
              "      <th>Retweet</th>\n",
              "      <th>text</th>\n",
              "      <th>scores</th>\n",
              "    </tr>\n",
              "  </thead>\n",
              "  <tbody>\n",
              "    <tr>\n",
              "      <th>1</th>\n",
              "      <td>Meenakshi J Goyal</td>\n",
              "      <td>@meenakshigoyalg</td>\n",
              "      <td>Oct-30</td>\n",
              "      <td>3</td>\n",
              "      <td>2</td>\n",
              "      <td>flipkart afraid online payments better chose c...</td>\n",
              "      <td>{'neg': 0.079, 'neu': 0.81, 'pos': 0.112, 'com...</td>\n",
              "    </tr>\n",
              "    <tr>\n",
              "      <th>2</th>\n",
              "      <td>mystartupyatra</td>\n",
              "      <td>@mystartupyatra</td>\n",
              "      <td>Oct-26</td>\n",
              "      <td>NaN</td>\n",
              "      <td>1</td>\n",
              "      <td>rupifi  powering bb transactions smes india so...</td>\n",
              "      <td>{'neg': 0.0, 'neu': 1.0, 'pos': 0.0, 'compound...</td>\n",
              "    </tr>\n",
              "    <tr>\n",
              "      <th>3</th>\n",
              "      <td>Marketing Motivation</td>\n",
              "      <td>@marketing_motiv</td>\n",
              "      <td>Oct-23</td>\n",
              "      <td>NaN</td>\n",
              "      <td>NaN</td>\n",
              "      <td>digital payments leader phonepe started chargi...</td>\n",
              "      <td>{'neg': 0.0, 'neu': 1.0, 'pos': 0.0, 'compound...</td>\n",
              "    </tr>\n",
              "    <tr>\n",
              "      <th>4</th>\n",
              "      <td>Girish Purohit</td>\n",
              "      <td>@GJ_PUROHIT</td>\n",
              "      <td>Oct-22</td>\n",
              "      <td>1</td>\n",
              "      <td>2</td>\n",
              "      <td>axisbank axisbanksupport flipkart cc charged i...</td>\n",
              "      <td>{'neg': 0.321, 'neu': 0.412, 'pos': 0.268, 'co...</td>\n",
              "    </tr>\n",
              "    <tr>\n",
              "      <th>5</th>\n",
              "      <td>Nitin Sethi</td>\n",
              "      <td>@nitinsethi80</td>\n",
              "      <td>Oct-20</td>\n",
              "      <td>NaN</td>\n",
              "      <td>NaN</td>\n",
              "      <td>flipkart wholesale partners rupifi offer bnpl ...</td>\n",
              "      <td>{'neg': 0.0, 'neu': 1.0, 'pos': 0.0, 'compound...</td>\n",
              "    </tr>\n",
              "  </tbody>\n",
              "</table>\n",
              "</div>"
            ],
            "text/plain": [
              "                   Name  ...                                             scores\n",
              "1     Meenakshi J Goyal  ...  {'neg': 0.079, 'neu': 0.81, 'pos': 0.112, 'com...\n",
              "2        mystartupyatra  ...  {'neg': 0.0, 'neu': 1.0, 'pos': 0.0, 'compound...\n",
              "3  Marketing Motivation  ...  {'neg': 0.0, 'neu': 1.0, 'pos': 0.0, 'compound...\n",
              "4        Girish Purohit  ...  {'neg': 0.321, 'neu': 0.412, 'pos': 0.268, 'co...\n",
              "5           Nitin Sethi  ...  {'neg': 0.0, 'neu': 1.0, 'pos': 0.0, 'compound...\n",
              "\n",
              "[5 rows x 7 columns]"
            ]
          },
          "metadata": {},
          "execution_count": 258
        }
      ]
    },
    {
      "cell_type": "code",
      "metadata": {
        "colab": {
          "base_uri": "https://localhost:8080/",
          "height": 292
        },
        "id": "sh6WWyxr34a5",
        "outputId": "18789b38-5e14-4dc3-ccd8-aa29a78f2da6"
      },
      "source": [
        "df['compound']  = df['scores'].apply(lambda score_dict: score_dict['compound'])\n",
        "\n",
        "df.head()"
      ],
      "execution_count": null,
      "outputs": [
        {
          "output_type": "execute_result",
          "data": {
            "text/html": [
              "<div>\n",
              "<style scoped>\n",
              "    .dataframe tbody tr th:only-of-type {\n",
              "        vertical-align: middle;\n",
              "    }\n",
              "\n",
              "    .dataframe tbody tr th {\n",
              "        vertical-align: top;\n",
              "    }\n",
              "\n",
              "    .dataframe thead th {\n",
              "        text-align: right;\n",
              "    }\n",
              "</style>\n",
              "<table border=\"1\" class=\"dataframe\">\n",
              "  <thead>\n",
              "    <tr style=\"text-align: right;\">\n",
              "      <th></th>\n",
              "      <th>Name</th>\n",
              "      <th>Account</th>\n",
              "      <th>Date</th>\n",
              "      <th>Comments</th>\n",
              "      <th>Retweet</th>\n",
              "      <th>text</th>\n",
              "      <th>scores</th>\n",
              "      <th>compound</th>\n",
              "    </tr>\n",
              "  </thead>\n",
              "  <tbody>\n",
              "    <tr>\n",
              "      <th>1</th>\n",
              "      <td>Meenakshi J Goyal</td>\n",
              "      <td>@meenakshigoyalg</td>\n",
              "      <td>Oct-30</td>\n",
              "      <td>3</td>\n",
              "      <td>2</td>\n",
              "      <td>flipkart afraid online payments better chose c...</td>\n",
              "      <td>{'neg': 0.079, 'neu': 0.81, 'pos': 0.112, 'com...</td>\n",
              "      <td>0.2177</td>\n",
              "    </tr>\n",
              "    <tr>\n",
              "      <th>2</th>\n",
              "      <td>mystartupyatra</td>\n",
              "      <td>@mystartupyatra</td>\n",
              "      <td>Oct-26</td>\n",
              "      <td>NaN</td>\n",
              "      <td>1</td>\n",
              "      <td>rupifi  powering bb transactions smes india so...</td>\n",
              "      <td>{'neg': 0.0, 'neu': 1.0, 'pos': 0.0, 'compound...</td>\n",
              "      <td>0.0000</td>\n",
              "    </tr>\n",
              "    <tr>\n",
              "      <th>3</th>\n",
              "      <td>Marketing Motivation</td>\n",
              "      <td>@marketing_motiv</td>\n",
              "      <td>Oct-23</td>\n",
              "      <td>NaN</td>\n",
              "      <td>NaN</td>\n",
              "      <td>digital payments leader phonepe started chargi...</td>\n",
              "      <td>{'neg': 0.0, 'neu': 1.0, 'pos': 0.0, 'compound...</td>\n",
              "      <td>0.0000</td>\n",
              "    </tr>\n",
              "    <tr>\n",
              "      <th>4</th>\n",
              "      <td>Girish Purohit</td>\n",
              "      <td>@GJ_PUROHIT</td>\n",
              "      <td>Oct-22</td>\n",
              "      <td>1</td>\n",
              "      <td>2</td>\n",
              "      <td>axisbank axisbanksupport flipkart cc charged i...</td>\n",
              "      <td>{'neg': 0.321, 'neu': 0.412, 'pos': 0.268, 'co...</td>\n",
              "      <td>0.0516</td>\n",
              "    </tr>\n",
              "    <tr>\n",
              "      <th>5</th>\n",
              "      <td>Nitin Sethi</td>\n",
              "      <td>@nitinsethi80</td>\n",
              "      <td>Oct-20</td>\n",
              "      <td>NaN</td>\n",
              "      <td>NaN</td>\n",
              "      <td>flipkart wholesale partners rupifi offer bnpl ...</td>\n",
              "      <td>{'neg': 0.0, 'neu': 1.0, 'pos': 0.0, 'compound...</td>\n",
              "      <td>0.0000</td>\n",
              "    </tr>\n",
              "  </tbody>\n",
              "</table>\n",
              "</div>"
            ],
            "text/plain": [
              "                   Name  ... compound\n",
              "1     Meenakshi J Goyal  ...   0.2177\n",
              "2        mystartupyatra  ...   0.0000\n",
              "3  Marketing Motivation  ...   0.0000\n",
              "4        Girish Purohit  ...   0.0516\n",
              "5           Nitin Sethi  ...   0.0000\n",
              "\n",
              "[5 rows x 8 columns]"
            ]
          },
          "metadata": {},
          "execution_count": 259
        }
      ]
    },
    {
      "cell_type": "code",
      "metadata": {
        "colab": {
          "base_uri": "https://localhost:8080/",
          "height": 777
        },
        "id": "xU7qgv_u6Qqh",
        "outputId": "db302ef7-08ab-4e50-d35d-291dd91f2684"
      },
      "source": [
        "df.head(15)"
      ],
      "execution_count": null,
      "outputs": [
        {
          "output_type": "execute_result",
          "data": {
            "text/html": [
              "<div>\n",
              "<style scoped>\n",
              "    .dataframe tbody tr th:only-of-type {\n",
              "        vertical-align: middle;\n",
              "    }\n",
              "\n",
              "    .dataframe tbody tr th {\n",
              "        vertical-align: top;\n",
              "    }\n",
              "\n",
              "    .dataframe thead th {\n",
              "        text-align: right;\n",
              "    }\n",
              "</style>\n",
              "<table border=\"1\" class=\"dataframe\">\n",
              "  <thead>\n",
              "    <tr style=\"text-align: right;\">\n",
              "      <th></th>\n",
              "      <th>Name</th>\n",
              "      <th>Account</th>\n",
              "      <th>Date</th>\n",
              "      <th>Comments</th>\n",
              "      <th>Retweet</th>\n",
              "      <th>text</th>\n",
              "      <th>scores</th>\n",
              "      <th>compound</th>\n",
              "    </tr>\n",
              "  </thead>\n",
              "  <tbody>\n",
              "    <tr>\n",
              "      <th>1</th>\n",
              "      <td>Meenakshi J Goyal</td>\n",
              "      <td>@meenakshigoyalg</td>\n",
              "      <td>Oct-30</td>\n",
              "      <td>3</td>\n",
              "      <td>2</td>\n",
              "      <td>flipkart afraid online payments better chose c...</td>\n",
              "      <td>{'neg': 0.079, 'neu': 0.81, 'pos': 0.112, 'com...</td>\n",
              "      <td>0.2177</td>\n",
              "    </tr>\n",
              "    <tr>\n",
              "      <th>2</th>\n",
              "      <td>mystartupyatra</td>\n",
              "      <td>@mystartupyatra</td>\n",
              "      <td>Oct-26</td>\n",
              "      <td>NaN</td>\n",
              "      <td>1</td>\n",
              "      <td>rupifi  powering bb transactions smes india so...</td>\n",
              "      <td>{'neg': 0.0, 'neu': 1.0, 'pos': 0.0, 'compound...</td>\n",
              "      <td>0.0000</td>\n",
              "    </tr>\n",
              "    <tr>\n",
              "      <th>3</th>\n",
              "      <td>Marketing Motivation</td>\n",
              "      <td>@marketing_motiv</td>\n",
              "      <td>Oct-23</td>\n",
              "      <td>NaN</td>\n",
              "      <td>NaN</td>\n",
              "      <td>digital payments leader phonepe started chargi...</td>\n",
              "      <td>{'neg': 0.0, 'neu': 1.0, 'pos': 0.0, 'compound...</td>\n",
              "      <td>0.0000</td>\n",
              "    </tr>\n",
              "    <tr>\n",
              "      <th>4</th>\n",
              "      <td>Girish Purohit</td>\n",
              "      <td>@GJ_PUROHIT</td>\n",
              "      <td>Oct-22</td>\n",
              "      <td>1</td>\n",
              "      <td>2</td>\n",
              "      <td>axisbank axisbanksupport flipkart cc charged i...</td>\n",
              "      <td>{'neg': 0.321, 'neu': 0.412, 'pos': 0.268, 'co...</td>\n",
              "      <td>0.0516</td>\n",
              "    </tr>\n",
              "    <tr>\n",
              "      <th>5</th>\n",
              "      <td>Nitin Sethi</td>\n",
              "      <td>@nitinsethi80</td>\n",
              "      <td>Oct-20</td>\n",
              "      <td>NaN</td>\n",
              "      <td>NaN</td>\n",
              "      <td>flipkart wholesale partners rupifi offer bnpl ...</td>\n",
              "      <td>{'neg': 0.0, 'neu': 1.0, 'pos': 0.0, 'compound...</td>\n",
              "      <td>0.0000</td>\n",
              "    </tr>\n",
              "    <tr>\n",
              "      <th>6</th>\n",
              "      <td>YP Buzz</td>\n",
              "      <td>@ypbuzzofficial</td>\n",
              "      <td>Aug-24</td>\n",
              "      <td>NaN</td>\n",
              "      <td>2</td>\n",
              "      <td>rbi issue new guideline jan  httpsypbuzzcomlea...</td>\n",
              "      <td>{'neg': 0.0, 'neu': 0.934, 'pos': 0.066, 'comp...</td>\n",
              "      <td>0.1779</td>\n",
              "    </tr>\n",
              "    <tr>\n",
              "      <th>7</th>\n",
              "      <td>Sharanu.N</td>\n",
              "      <td>@sharanu_ja</td>\n",
              "      <td>Aug-21</td>\n",
              "      <td>2</td>\n",
              "      <td>NaN</td>\n",
              "      <td>dear flipkart happened android app app not acc...</td>\n",
              "      <td>{'neg': 0.13, 'neu': 0.715, 'pos': 0.155, 'com...</td>\n",
              "      <td>0.1068</td>\n",
              "    </tr>\n",
              "    <tr>\n",
              "      <th>8</th>\n",
              "      <td>Renjith R</td>\n",
              "      <td>@renjithr2081</td>\n",
              "      <td>Aug-18</td>\n",
              "      <td>NaN</td>\n",
              "      <td>1</td>\n",
              "      <td>phonepe closes  mn round participation tencent...</td>\n",
              "      <td>{'neg': 0.0, 'neu': 1.0, 'pos': 0.0, 'compound...</td>\n",
              "      <td>0.0000</td>\n",
              "    </tr>\n",
              "    <tr>\n",
              "      <th>9</th>\n",
              "      <td>????????????????????????????</td>\n",
              "      <td>@MarathaaWarrior</td>\n",
              "      <td>Aug-14</td>\n",
              "      <td>1</td>\n",
              "      <td>NaN</td>\n",
              "      <td>upi digital payments ondc going ecommerce woul...</td>\n",
              "      <td>{'neg': 0.0, 'neu': 0.706, 'pos': 0.294, 'comp...</td>\n",
              "      <td>0.7096</td>\n",
              "    </tr>\n",
              "    <tr>\n",
              "      <th>10</th>\n",
              "      <td>Biswajit Gaigaria</td>\n",
              "      <td>@BGaigaria</td>\n",
              "      <td>Aug-13</td>\n",
              "      <td>3</td>\n",
              "      <td>NaN</td>\n",
              "      <td>dear flipkart  order no o canceled successfull...</td>\n",
              "      <td>{'neg': 0.073, 'neu': 0.733, 'pos': 0.193, 'co...</td>\n",
              "      <td>0.5574</td>\n",
              "    </tr>\n",
              "    <tr>\n",
              "      <th>11</th>\n",
              "      <td>UmarAshfaq</td>\n",
              "      <td>@UmarAshfaqDL</td>\n",
              "      <td>Aug-04</td>\n",
              "      <td>2</td>\n",
              "      <td>1</td>\n",
              "      <td>age digitalindia ecommerce giant flipkart not ...</td>\n",
              "      <td>{'neg': 0.195, 'neu': 0.674, 'pos': 0.132, 'co...</td>\n",
              "      <td>-0.2640</td>\n",
              "    </tr>\n",
              "    <tr>\n",
              "      <th>12</th>\n",
              "      <td>Saurabh Chhabra</td>\n",
              "      <td>@sunnyy43</td>\n",
              "      <td>Jul-22</td>\n",
              "      <td>2</td>\n",
              "      <td>NaN</td>\n",
              "      <td>fraud alert flipkart collaboration idfcfirstba...</td>\n",
              "      <td>{'neg': 0.119, 'neu': 0.812, 'pos': 0.069, 'co...</td>\n",
              "      <td>-0.3818</td>\n",
              "    </tr>\n",
              "    <tr>\n",
              "      <th>13</th>\n",
              "      <td>raghav mehta</td>\n",
              "      <td>@raghavm22</td>\n",
              "      <td>Jul-21</td>\n",
              "      <td>1</td>\n",
              "      <td>NaN</td>\n",
              "      <td>make payments contact anyone carry daily life ...</td>\n",
              "      <td>{'neg': 0.125, 'neu': 0.774, 'pos': 0.101, 'co...</td>\n",
              "      <td>-0.1783</td>\n",
              "    </tr>\n",
              "    <tr>\n",
              "      <th>14</th>\n",
              "      <td>VARINDIA</td>\n",
              "      <td>@varindiamag</td>\n",
              "      <td>Jul-13</td>\n",
              "      <td>NaN</td>\n",
              "      <td>1</td>\n",
              "      <td>digital transformation shaping payments indust...</td>\n",
              "      <td>{'neg': 0.0, 'neu': 1.0, 'pos': 0.0, 'compound...</td>\n",
              "      <td>0.0000</td>\n",
              "    </tr>\n",
              "    <tr>\n",
              "      <th>15</th>\n",
              "      <td>Surya Collection</td>\n",
              "      <td>@SuryaCollectio2</td>\n",
              "      <td>Jul-13</td>\n",
              "      <td>2</td>\n",
              "      <td>NaN</td>\n",
              "      <td>payments blocked since nd july no update it to...</td>\n",
              "      <td>{'neg': 0.381, 'neu': 0.619, 'pos': 0.0, 'comp...</td>\n",
              "      <td>-0.7501</td>\n",
              "    </tr>\n",
              "  </tbody>\n",
              "</table>\n",
              "</div>"
            ],
            "text/plain": [
              "                            Name  ... compound\n",
              "1              Meenakshi J Goyal  ...   0.2177\n",
              "2                 mystartupyatra  ...   0.0000\n",
              "3           Marketing Motivation  ...   0.0000\n",
              "4                 Girish Purohit  ...   0.0516\n",
              "5                    Nitin Sethi  ...   0.0000\n",
              "6                        YP Buzz  ...   0.1779\n",
              "7                      Sharanu.N  ...   0.1068\n",
              "8                      Renjith R  ...   0.0000\n",
              "9   ????????????????????????????  ...   0.7096\n",
              "10            Biswajit Gaigaria   ...   0.5574\n",
              "11                    UmarAshfaq  ...  -0.2640\n",
              "12               Saurabh Chhabra  ...  -0.3818\n",
              "13                  raghav mehta  ...  -0.1783\n",
              "14                      VARINDIA  ...   0.0000\n",
              "15              Surya Collection  ...  -0.7501\n",
              "\n",
              "[15 rows x 8 columns]"
            ]
          },
          "metadata": {},
          "execution_count": 260
        }
      ]
    },
    {
      "cell_type": "code",
      "metadata": {
        "id": "E8sugEVb6YzN"
      },
      "source": [
        "target=[] \n",
        "for c in df[\"compound\"]:\n",
        "  if c>0:\n",
        "    target.append(\"Positive\")  \n",
        "  elif c<0:\n",
        "    target.append(\"Negative\")  \n",
        "  else:\n",
        "    target.append(\"Neutral\")\n",
        "\n"
      ],
      "execution_count": null,
      "outputs": []
    },
    {
      "cell_type": "code",
      "metadata": {
        "id": "_vIlcL9bInv8"
      },
      "source": [
        "df['target'] = target"
      ],
      "execution_count": null,
      "outputs": []
    },
    {
      "cell_type": "code",
      "metadata": {
        "colab": {
          "base_uri": "https://localhost:8080/",
          "height": 292
        },
        "id": "vNdTLUtpJCGM",
        "outputId": "6681bdac-d93c-4563-d0c1-887cb42c00e7"
      },
      "source": [
        "df.head()"
      ],
      "execution_count": null,
      "outputs": [
        {
          "output_type": "execute_result",
          "data": {
            "text/html": [
              "<div>\n",
              "<style scoped>\n",
              "    .dataframe tbody tr th:only-of-type {\n",
              "        vertical-align: middle;\n",
              "    }\n",
              "\n",
              "    .dataframe tbody tr th {\n",
              "        vertical-align: top;\n",
              "    }\n",
              "\n",
              "    .dataframe thead th {\n",
              "        text-align: right;\n",
              "    }\n",
              "</style>\n",
              "<table border=\"1\" class=\"dataframe\">\n",
              "  <thead>\n",
              "    <tr style=\"text-align: right;\">\n",
              "      <th></th>\n",
              "      <th>Name</th>\n",
              "      <th>Account</th>\n",
              "      <th>Date</th>\n",
              "      <th>Comments</th>\n",
              "      <th>Retweet</th>\n",
              "      <th>text</th>\n",
              "      <th>scores</th>\n",
              "      <th>compound</th>\n",
              "      <th>target</th>\n",
              "    </tr>\n",
              "  </thead>\n",
              "  <tbody>\n",
              "    <tr>\n",
              "      <th>1</th>\n",
              "      <td>Meenakshi J Goyal</td>\n",
              "      <td>@meenakshigoyalg</td>\n",
              "      <td>Oct-30</td>\n",
              "      <td>3</td>\n",
              "      <td>2</td>\n",
              "      <td>flipkart afraid online payments better chose c...</td>\n",
              "      <td>{'neg': 0.079, 'neu': 0.81, 'pos': 0.112, 'com...</td>\n",
              "      <td>0.2177</td>\n",
              "      <td>Positive</td>\n",
              "    </tr>\n",
              "    <tr>\n",
              "      <th>2</th>\n",
              "      <td>mystartupyatra</td>\n",
              "      <td>@mystartupyatra</td>\n",
              "      <td>Oct-26</td>\n",
              "      <td>NaN</td>\n",
              "      <td>1</td>\n",
              "      <td>rupifi  powering bb transactions smes india so...</td>\n",
              "      <td>{'neg': 0.0, 'neu': 1.0, 'pos': 0.0, 'compound...</td>\n",
              "      <td>0.0000</td>\n",
              "      <td>Neutral</td>\n",
              "    </tr>\n",
              "    <tr>\n",
              "      <th>3</th>\n",
              "      <td>Marketing Motivation</td>\n",
              "      <td>@marketing_motiv</td>\n",
              "      <td>Oct-23</td>\n",
              "      <td>NaN</td>\n",
              "      <td>NaN</td>\n",
              "      <td>digital payments leader phonepe started chargi...</td>\n",
              "      <td>{'neg': 0.0, 'neu': 1.0, 'pos': 0.0, 'compound...</td>\n",
              "      <td>0.0000</td>\n",
              "      <td>Neutral</td>\n",
              "    </tr>\n",
              "    <tr>\n",
              "      <th>4</th>\n",
              "      <td>Girish Purohit</td>\n",
              "      <td>@GJ_PUROHIT</td>\n",
              "      <td>Oct-22</td>\n",
              "      <td>1</td>\n",
              "      <td>2</td>\n",
              "      <td>axisbank axisbanksupport flipkart cc charged i...</td>\n",
              "      <td>{'neg': 0.321, 'neu': 0.412, 'pos': 0.268, 'co...</td>\n",
              "      <td>0.0516</td>\n",
              "      <td>Positive</td>\n",
              "    </tr>\n",
              "    <tr>\n",
              "      <th>5</th>\n",
              "      <td>Nitin Sethi</td>\n",
              "      <td>@nitinsethi80</td>\n",
              "      <td>Oct-20</td>\n",
              "      <td>NaN</td>\n",
              "      <td>NaN</td>\n",
              "      <td>flipkart wholesale partners rupifi offer bnpl ...</td>\n",
              "      <td>{'neg': 0.0, 'neu': 1.0, 'pos': 0.0, 'compound...</td>\n",
              "      <td>0.0000</td>\n",
              "      <td>Neutral</td>\n",
              "    </tr>\n",
              "  </tbody>\n",
              "</table>\n",
              "</div>"
            ],
            "text/plain": [
              "                   Name           Account  ... compound    target\n",
              "1     Meenakshi J Goyal  @meenakshigoyalg  ...   0.2177  Positive\n",
              "2        mystartupyatra   @mystartupyatra  ...   0.0000   Neutral\n",
              "3  Marketing Motivation  @marketing_motiv  ...   0.0000   Neutral\n",
              "4        Girish Purohit       @GJ_PUROHIT  ...   0.0516  Positive\n",
              "5           Nitin Sethi     @nitinsethi80  ...   0.0000   Neutral\n",
              "\n",
              "[5 rows x 9 columns]"
            ]
          },
          "metadata": {},
          "execution_count": 263
        }
      ]
    },
    {
      "cell_type": "code",
      "metadata": {
        "colab": {
          "base_uri": "https://localhost:8080/",
          "height": 295
        },
        "id": "rpj3PaLxJFxF",
        "outputId": "3d317beb-b6a2-4f9f-b414-15dd4538b90d"
      },
      "source": [
        "# Plotting the distribution for dataset.\n",
        "ax = df.groupby('target').count().plot(kind='bar', title='Distribution of data',legend=False)\n",
        "ax.set_xticklabels(['Negative','Positive',\"Neutral\"], rotation=0)\n",
        "# Storing data in lists.\n",
        "text, sentiment = list(df['text']), list(df['target'])"
      ],
      "execution_count": null,
      "outputs": [
        {
          "output_type": "display_data",
          "data": {
            "image/png": "[encoded data removed]",
            "text/plain": [
              "<Figure size 432x288 with 1 Axes>"
            ]
          },
          "metadata": {
            "needs_background": "light"
          }
        }
      ]
    },
    {
      "cell_type": "code",
      "metadata": {
        "colab": {
          "base_uri": "https://localhost:8080/",
          "height": 297
        },
        "id": "aHTrB4WRI_sM",
        "outputId": "0bb60a5f-0b44-463c-fc87-f3ed24f7980e"
      },
      "source": [
        "import seaborn as sns\n",
        "sns.countplot(x='target', data=df)"
      ],
      "execution_count": null,
      "outputs": [
        {
          "output_type": "execute_result",
          "data": {
            "text/plain": [
              "<matplotlib.axes._subplots.AxesSubplot at 0x7f9b0c847f90>"
            ]
          },
          "metadata": {},
          "execution_count": 265
        },
        {
          "output_type": "display_data",
          "data": {
            "image/png": "[encoded data removed]",
            "text/plain": [
              "<Figure size 432x288 with 1 Axes>"
            ]
          },
          "metadata": {
            "needs_background": "light"
          }
        }
      ]
    },
    {
      "cell_type": "code",
      "metadata": {
        "id": "S6OjQw_w7eoF",
        "colab": {
          "base_uri": "https://localhost:8080/"
        },
        "outputId": "3104585d-919f-4e84-f005-690cd07d3053"
      },
      "source": [
        "df[\"target\"].value_counts()"
      ],
      "execution_count": null,
      "outputs": [
        {
          "output_type": "execute_result",
          "data": {
            "text/plain": [
              "Positive    155\n",
              "Neutral     120\n",
              "Negative     59\n",
              "Name: target, dtype: int64"
            ]
          },
          "metadata": {},
          "execution_count": 269
        }
      ]
    },
    {
      "cell_type": "markdown",
      "metadata": {
        "id": "N___IUD6fFgn"
      },
      "source": [
        "**As it is clearly visible, even after a lot of negative reviews regarding the payment process of Flipkart, most sentiments seems to be quite positive**"
      ]
    },
    {
      "cell_type": "code",
      "metadata": {
        "id": "w1WDwyvl7kPe"
      },
      "source": [
        ""
      ],
      "execution_count": null,
      "outputs": []
    },
    {
      "cell_type": "code",
      "metadata": {
        "id": "uS2FAbTR74Py"
      },
      "source": [
        ""
      ],
      "execution_count": null,
      "outputs": []
    }
  ]
}